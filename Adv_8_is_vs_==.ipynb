{
 "cells": [
  {
   "cell_type": "markdown",
   "id": "8d24d099",
   "metadata": {},
   "source": [
    "# is vs == - Boolean Evaluation"
   ]
  },
  {
   "cell_type": "code",
   "execution_count": 5,
   "id": "541d159f",
   "metadata": {},
   "outputs": [],
   "source": [
    "lst1 = ['ab','abc','abcd']\n",
    "lst2 = ['ab','abc','abcd']\n"
   ]
  },
  {
   "cell_type": "code",
   "execution_count": 6,
   "id": "66639038",
   "metadata": {},
   "outputs": [
    {
     "data": {
      "text/plain": [
       "True"
      ]
     },
     "execution_count": 6,
     "metadata": {},
     "output_type": "execute_result"
    }
   ],
   "source": [
    "lst1 == lst2"
   ]
  },
  {
   "cell_type": "code",
   "execution_count": 7,
   "id": "d71c4a58",
   "metadata": {},
   "outputs": [],
   "source": [
    "a = \"ab\"\n",
    "b = \"abc\""
   ]
  },
  {
   "cell_type": "code",
   "execution_count": 8,
   "id": "0200059d",
   "metadata": {},
   "outputs": [
    {
     "data": {
      "text/plain": [
       "False"
      ]
     },
     "execution_count": 8,
     "metadata": {},
     "output_type": "execute_result"
    }
   ],
   "source": [
    "a == b"
   ]
  },
  {
   "cell_type": "code",
   "execution_count": 9,
   "id": "d83041ef",
   "metadata": {},
   "outputs": [
    {
     "data": {
      "text/plain": [
       "False"
      ]
     },
     "execution_count": 9,
     "metadata": {},
     "output_type": "execute_result"
    }
   ],
   "source": [
    "lst1 is lst2"
   ]
  },
  {
   "cell_type": "code",
   "execution_count": 10,
   "id": "26e6882d",
   "metadata": {},
   "outputs": [
    {
     "data": {
      "text/plain": [
       "False"
      ]
     },
     "execution_count": 10,
     "metadata": {},
     "output_type": "execute_result"
    }
   ],
   "source": [
    "lst2 is lst1\n"
   ]
  },
  {
   "cell_type": "code",
   "execution_count": 11,
   "id": "b7644708",
   "metadata": {},
   "outputs": [],
   "source": [
    "lst1 = ['ab','abc','abcd']\n",
    "lst2 = lst1"
   ]
  },
  {
   "cell_type": "code",
   "execution_count": 12,
   "id": "ca533b09",
   "metadata": {},
   "outputs": [
    {
     "data": {
      "text/plain": [
       "True"
      ]
     },
     "execution_count": 12,
     "metadata": {},
     "output_type": "execute_result"
    }
   ],
   "source": [
    "lst2 is lst1"
   ]
  },
  {
   "cell_type": "code",
   "execution_count": 13,
   "id": "6187c80c",
   "metadata": {},
   "outputs": [
    {
     "data": {
      "text/plain": [
       "True"
      ]
     },
     "execution_count": 13,
     "metadata": {},
     "output_type": "execute_result"
    }
   ],
   "source": [
    "lst1 is lst2"
   ]
  },
  {
   "cell_type": "code",
   "execution_count": 18,
   "id": "27387c23",
   "metadata": {},
   "outputs": [],
   "source": [
    "lst2[0] = \"hello\""
   ]
  },
  {
   "cell_type": "code",
   "execution_count": 19,
   "id": "a8239684",
   "metadata": {},
   "outputs": [
    {
     "data": {
      "text/plain": [
       "['hello', 'abc', 'abcd']"
      ]
     },
     "execution_count": 19,
     "metadata": {},
     "output_type": "execute_result"
    }
   ],
   "source": [
    "lst2"
   ]
  },
  {
   "cell_type": "code",
   "execution_count": 20,
   "id": "44e6241d",
   "metadata": {},
   "outputs": [
    {
     "data": {
      "text/plain": [
       "['hello', 'abc', 'abcd']"
      ]
     },
     "execution_count": 20,
     "metadata": {},
     "output_type": "execute_result"
    }
   ],
   "source": [
    "lst1\n"
   ]
  },
  {
   "cell_type": "code",
   "execution_count": 21,
   "id": "83c30fd2",
   "metadata": {},
   "outputs": [],
   "source": [
    "lst2[1] = \"jon\""
   ]
  },
  {
   "cell_type": "code",
   "execution_count": 22,
   "id": "bb3ef093",
   "metadata": {},
   "outputs": [
    {
     "data": {
      "text/plain": [
       "['hello', 'jon', 'abcd']"
      ]
     },
     "execution_count": 22,
     "metadata": {},
     "output_type": "execute_result"
    }
   ],
   "source": [
    "lst2\n",
    "\n"
   ]
  },
  {
   "cell_type": "code",
   "execution_count": 23,
   "id": "7a4b06d0",
   "metadata": {},
   "outputs": [
    {
     "data": {
      "text/plain": [
       "['hello', 'jon', 'abcd']"
      ]
     },
     "execution_count": 23,
     "metadata": {},
     "output_type": "execute_result"
    }
   ],
   "source": [
    "lst1"
   ]
  },
  {
   "cell_type": "code",
   "execution_count": 31,
   "id": "273a349a",
   "metadata": {},
   "outputs": [],
   "source": [
    "# to avoid mutability\n",
    "\n",
    "lst1 = ['ab','abc','abcd']\n",
    "lst2 = lst1.copy()\n"
   ]
  },
  {
   "cell_type": "code",
   "execution_count": 32,
   "id": "a1e9ac17",
   "metadata": {},
   "outputs": [
    {
     "data": {
      "text/plain": [
       "['ab', 'abc', 'abcd']"
      ]
     },
     "execution_count": 32,
     "metadata": {},
     "output_type": "execute_result"
    }
   ],
   "source": [
    "lst1"
   ]
  },
  {
   "cell_type": "code",
   "execution_count": 33,
   "id": "8c48af33",
   "metadata": {},
   "outputs": [
    {
     "data": {
      "text/plain": [
       "['ab', 'abc', 'abcd']"
      ]
     },
     "execution_count": 33,
     "metadata": {},
     "output_type": "execute_result"
    }
   ],
   "source": [
    "lst1"
   ]
  },
  {
   "cell_type": "code",
   "execution_count": 35,
   "id": "d155ab36",
   "metadata": {},
   "outputs": [],
   "source": [
    "lst2[0] = \"changed\""
   ]
  },
  {
   "cell_type": "code",
   "execution_count": 36,
   "id": "f69cc88a",
   "metadata": {},
   "outputs": [
    {
     "data": {
      "text/plain": [
       "['changed', 'abc', 'abcd']"
      ]
     },
     "execution_count": 36,
     "metadata": {},
     "output_type": "execute_result"
    }
   ],
   "source": [
    "lst2"
   ]
  },
  {
   "cell_type": "code",
   "execution_count": 37,
   "id": "dff64843",
   "metadata": {},
   "outputs": [
    {
     "data": {
      "text/plain": [
       "['ab', 'abc', 'abcd']"
      ]
     },
     "execution_count": 37,
     "metadata": {},
     "output_type": "execute_result"
    }
   ],
   "source": [
    "lst1"
   ]
  },
  {
   "cell_type": "code",
   "execution_count": null,
   "id": "d32d5472",
   "metadata": {},
   "outputs": [],
   "source": []
  }
 ],
 "metadata": {
  "kernelspec": {
   "display_name": "Python 3 (ipykernel)",
   "language": "python",
   "name": "python3"
  },
  "language_info": {
   "codemirror_mode": {
    "name": "ipython",
    "version": 3
   },
   "file_extension": ".py",
   "mimetype": "text/x-python",
   "name": "python",
   "nbconvert_exporter": "python",
   "pygments_lexer": "ipython3",
   "version": "3.9.12"
  }
 },
 "nbformat": 4,
 "nbformat_minor": 5
}
