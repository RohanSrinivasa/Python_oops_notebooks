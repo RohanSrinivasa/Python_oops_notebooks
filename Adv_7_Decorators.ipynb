{
 "cells": [
  {
   "cell_type": "markdown",
   "id": "6e2f79e3",
   "metadata": {},
   "source": [
    "# Python Decorators"
   ]
  },
  {
   "cell_type": "code",
   "execution_count": 9,
   "id": "d77d0bc9",
   "metadata": {},
   "outputs": [],
   "source": [
    "def welcome():\n",
    "    return(\"Hello, Everyone\")"
   ]
  },
  {
   "cell_type": "code",
   "execution_count": 10,
   "id": "d5068a91",
   "metadata": {},
   "outputs": [],
   "source": [
    "a = welcome()\n",
    "del welcome"
   ]
  },
  {
   "cell_type": "code",
   "execution_count": 11,
   "id": "b5146152",
   "metadata": {},
   "outputs": [
    {
     "data": {
      "text/plain": [
       "'Hello, Everyone'"
      ]
     },
     "execution_count": 11,
     "metadata": {},
     "output_type": "execute_result"
    }
   ],
   "source": [
    "a"
   ]
  },
  {
   "cell_type": "code",
   "execution_count": 12,
   "id": "607ae307",
   "metadata": {},
   "outputs": [
    {
     "ename": "NameError",
     "evalue": "name 'welcome' is not defined",
     "output_type": "error",
     "traceback": [
      "\u001b[1;31m---------------------------------------------------------------------------\u001b[0m",
      "\u001b[1;31mNameError\u001b[0m                                 Traceback (most recent call last)",
      "Input \u001b[1;32mIn [12]\u001b[0m, in \u001b[0;36m<cell line: 1>\u001b[1;34m()\u001b[0m\n\u001b[1;32m----> 1\u001b[0m \u001b[43mwelcome\u001b[49m()\n",
      "\u001b[1;31mNameError\u001b[0m: name 'welcome' is not defined"
     ]
    }
   ],
   "source": [
    "welcome()"
   ]
  },
  {
   "cell_type": "code",
   "execution_count": 16,
   "id": "e3e49743",
   "metadata": {},
   "outputs": [],
   "source": [
    "# Closures and Initial Decorator\n",
    "\n",
    "def main_welcome():\n",
    "    msg = \"Hello Everyone!!!\"\n",
    "    def sub_welcome_class():\n",
    "        print(\"Welcome Guys\")\n",
    "        print(msg)\n",
    "        print(\"Subscribe,Like and Comment!!!\")\n",
    "    return sub_welcome_class()"
   ]
  },
  {
   "cell_type": "code",
   "execution_count": 17,
   "id": "957cce46",
   "metadata": {},
   "outputs": [
    {
     "name": "stdout",
     "output_type": "stream",
     "text": [
      "Welcome Guys\n",
      "Hello Everyone!!!\n",
      "Subscribe,Like and Comment!!!\n"
     ]
    }
   ],
   "source": [
    "main_welcome()"
   ]
  },
  {
   "cell_type": "code",
   "execution_count": 18,
   "id": "9c2c4e62",
   "metadata": {},
   "outputs": [],
   "source": [
    "# Closures and Initial Decorator\n",
    "\n",
    "def main_welcome(msg):\n",
    "\n",
    "    def sub_welcome_class():\n",
    "        print(\"Welcome Guys\")\n",
    "        print(msg)\n",
    "        print(\"Subscribe,Like and Comment!!!\")\n",
    "    return sub_welcome_class()"
   ]
  },
  {
   "cell_type": "code",
   "execution_count": 19,
   "id": "f029c272",
   "metadata": {},
   "outputs": [
    {
     "name": "stdout",
     "output_type": "stream",
     "text": [
      "Welcome Guys\n",
      "Hello Everyone!!!\n",
      "Subscribe,Like and Comment!!!\n"
     ]
    }
   ],
   "source": [
    "main_welcome(\"Hello Everyone!!!\")"
   ]
  },
  {
   "cell_type": "code",
   "execution_count": 20,
   "id": "8690fe87",
   "metadata": {},
   "outputs": [],
   "source": [
    "# Closures and Initial Decorator\n",
    "\n",
    "def main_welcome(func):\n",
    "\n",
    "    def sub_welcome_class():\n",
    "        print(\"Welcome Guys\")\n",
    "        func(\"Yoo guys\")\n",
    "        print(\"Subscribe,Like and Comment!!!\")\n",
    "    return sub_welcome_class()"
   ]
  },
  {
   "cell_type": "code",
   "execution_count": 21,
   "id": "325507b7",
   "metadata": {},
   "outputs": [
    {
     "name": "stdout",
     "output_type": "stream",
     "text": [
      "Welcome Guys\n",
      "Yoo guys\n",
      "Subscribe,Like and Comment!!!\n"
     ]
    }
   ],
   "source": [
    "main_welcome(print)"
   ]
  },
  {
   "cell_type": "code",
   "execution_count": 22,
   "id": "38bb435e",
   "metadata": {},
   "outputs": [],
   "source": [
    "# Closures and Initial Decorator\n",
    "\n",
    "def main_welcome(func):\n",
    "\n",
    "    def sub_welcome_class():\n",
    "        print(\"Welcome Guys\")\n",
    "        print(func([1,2,3,4,5,6,7,8]))\n",
    "        print(\"Subscribe,Like and Comment!!!\")\n",
    "    return sub_welcome_class()"
   ]
  },
  {
   "cell_type": "code",
   "execution_count": 23,
   "id": "8b10d43c",
   "metadata": {},
   "outputs": [
    {
     "name": "stdout",
     "output_type": "stream",
     "text": [
      "Welcome Guys\n",
      "8\n",
      "Subscribe,Like and Comment!!!\n"
     ]
    }
   ],
   "source": [
    "main_welcome(len)"
   ]
  },
  {
   "cell_type": "code",
   "execution_count": 24,
   "id": "35da8a1f",
   "metadata": {},
   "outputs": [],
   "source": [
    "## Decorator\n",
    "\n",
    "def main_welcome(func):\n",
    "\n",
    "    def sub_welcome_class():\n",
    "        print(\"Welcome Guys\")\n",
    "        func()\n",
    "        print(\"Subscribe,Like and Comment!!!\")\n",
    "    return sub_welcome_class()"
   ]
  },
  {
   "cell_type": "code",
   "execution_count": 25,
   "id": "c7b3f67a",
   "metadata": {},
   "outputs": [],
   "source": [
    "def channel_name():\n",
    "    print(\"This is my Channel\")"
   ]
  },
  {
   "cell_type": "code",
   "execution_count": 26,
   "id": "2b76e2b2",
   "metadata": {},
   "outputs": [
    {
     "name": "stdout",
     "output_type": "stream",
     "text": [
      "Welcome Guys\n",
      "This is my Channel\n",
      "Subscribe,Like and Comment!!!\n"
     ]
    }
   ],
   "source": [
    "main_welcome(channel_name)"
   ]
  },
  {
   "cell_type": "code",
   "execution_count": 27,
   "id": "401e3901",
   "metadata": {},
   "outputs": [
    {
     "name": "stdout",
     "output_type": "stream",
     "text": [
      "Welcome Guys\n",
      "This is my Channel\n",
      "Subscribe,Like and Comment!!!\n"
     ]
    }
   ],
   "source": [
    "## shortcut\n",
    "\n",
    "@main_welcome\n",
    "def channel_name():\n",
    "    print(\"This is my Channel\")\n",
    "\n"
   ]
  },
  {
   "cell_type": "code",
   "execution_count": null,
   "id": "fd5398be",
   "metadata": {},
   "outputs": [],
   "source": []
  }
 ],
 "metadata": {
  "kernelspec": {
   "display_name": "Python 3 (ipykernel)",
   "language": "python",
   "name": "python3"
  },
  "language_info": {
   "codemirror_mode": {
    "name": "ipython",
    "version": 3
   },
   "file_extension": ".py",
   "mimetype": "text/x-python",
   "name": "python",
   "nbconvert_exporter": "python",
   "pygments_lexer": "ipython3",
   "version": "3.9.12"
  }
 },
 "nbformat": 4,
 "nbformat_minor": 5
}
