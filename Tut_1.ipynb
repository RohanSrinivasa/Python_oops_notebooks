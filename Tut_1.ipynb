{
 "cells": [
  {
   "cell_type": "markdown",
   "id": "05af41a5",
   "metadata": {},
   "source": [
    "# Python Basics\n",
    "\n",
    "## Tutorial_1\n"
   ]
  },
  {
   "cell_type": "markdown",
   "id": "89bcafb9",
   "metadata": {},
   "source": [
    "## Numbers"
   ]
  },
  {
   "cell_type": "code",
   "execution_count": 1,
   "id": "99ddd0f5",
   "metadata": {},
   "outputs": [
    {
     "data": {
      "text/plain": [
       "20"
      ]
     },
     "execution_count": 1,
     "metadata": {},
     "output_type": "execute_result"
    }
   ],
   "source": [
    "10+10"
   ]
  },
  {
   "cell_type": "code",
   "execution_count": 2,
   "id": "b02e256c",
   "metadata": {},
   "outputs": [
    {
     "data": {
      "text/plain": [
       "7"
      ]
     },
     "execution_count": 2,
     "metadata": {},
     "output_type": "execute_result"
    }
   ],
   "source": [
    "10-3"
   ]
  },
  {
   "cell_type": "code",
   "execution_count": 3,
   "id": "6a79db51",
   "metadata": {},
   "outputs": [
    {
     "data": {
      "text/plain": [
       "20"
      ]
     },
     "execution_count": 3,
     "metadata": {},
     "output_type": "execute_result"
    }
   ],
   "source": [
    "10*2"
   ]
  },
  {
   "cell_type": "code",
   "execution_count": 4,
   "id": "15f04f9a",
   "metadata": {},
   "outputs": [
    {
     "data": {
      "text/plain": [
       "3.3333333333333335"
      ]
     },
     "execution_count": 4,
     "metadata": {},
     "output_type": "execute_result"
    }
   ],
   "source": [
    "10/3"
   ]
  },
  {
   "cell_type": "code",
   "execution_count": 5,
   "id": "604b3571",
   "metadata": {},
   "outputs": [
    {
     "data": {
      "text/plain": [
       "2.5"
      ]
     },
     "execution_count": 5,
     "metadata": {},
     "output_type": "execute_result"
    }
   ],
   "source": [
    "10/4.0"
   ]
  },
  {
   "cell_type": "code",
   "execution_count": 6,
   "id": "4dfd1000",
   "metadata": {},
   "outputs": [
    {
     "data": {
      "text/plain": [
       "1"
      ]
     },
     "execution_count": 6,
     "metadata": {},
     "output_type": "execute_result"
    }
   ],
   "source": [
    "10%3"
   ]
  },
  {
   "cell_type": "code",
   "execution_count": 7,
   "id": "d48a95e0",
   "metadata": {},
   "outputs": [
    {
     "data": {
      "text/plain": [
       "100"
      ]
     },
     "execution_count": 7,
     "metadata": {},
     "output_type": "execute_result"
    }
   ],
   "source": [
    "10 ** 2"
   ]
  },
  {
   "cell_type": "code",
   "execution_count": 9,
   "id": "fed4738a",
   "metadata": {},
   "outputs": [
    {
     "data": {
      "text/plain": [
       "'yoo yoo yoo yoo yoo yoo yoo yoo yoo yoo '"
      ]
     },
     "execution_count": 9,
     "metadata": {},
     "output_type": "execute_result"
    }
   ],
   "source": [
    "10 * \"yoo \""
   ]
  },
  {
   "cell_type": "markdown",
   "id": "23827bd2",
   "metadata": {},
   "source": [
    "# Checking data type"
   ]
  },
  {
   "cell_type": "code",
   "execution_count": 10,
   "id": "57a5bbb9",
   "metadata": {},
   "outputs": [],
   "source": [
    "a = 10\n"
   ]
  },
  {
   "cell_type": "code",
   "execution_count": 11,
   "id": "3b7fc876",
   "metadata": {},
   "outputs": [
    {
     "data": {
      "text/plain": [
       "int"
      ]
     },
     "execution_count": 11,
     "metadata": {},
     "output_type": "execute_result"
    }
   ],
   "source": [
    "type(a)"
   ]
  },
  {
   "cell_type": "code",
   "execution_count": 12,
   "id": "b70de1e8",
   "metadata": {},
   "outputs": [],
   "source": [
    "a = \"hello\""
   ]
  },
  {
   "cell_type": "code",
   "execution_count": 13,
   "id": "6053e265",
   "metadata": {},
   "outputs": [
    {
     "data": {
      "text/plain": [
       "str"
      ]
     },
     "execution_count": 13,
     "metadata": {},
     "output_type": "execute_result"
    }
   ],
   "source": [
    "type(a)"
   ]
  },
  {
   "cell_type": "code",
   "execution_count": 14,
   "id": "29b697be",
   "metadata": {},
   "outputs": [
    {
     "data": {
      "text/plain": [
       "bool"
      ]
     },
     "execution_count": 14,
     "metadata": {},
     "output_type": "execute_result"
    }
   ],
   "source": [
    "type(True)"
   ]
  },
  {
   "cell_type": "code",
   "execution_count": 15,
   "id": "40088012",
   "metadata": {},
   "outputs": [
    {
     "data": {
      "text/plain": [
       "float"
      ]
     },
     "execution_count": 15,
     "metadata": {},
     "output_type": "execute_result"
    }
   ],
   "source": [
    "type(10.0000000034566)"
   ]
  },
  {
   "cell_type": "markdown",
   "id": "02521710",
   "metadata": {},
   "source": [
    "## Strings"
   ]
  },
  {
   "cell_type": "code",
   "execution_count": 16,
   "id": "6a42a05b",
   "metadata": {},
   "outputs": [
    {
     "name": "stdout",
     "output_type": "stream",
     "text": [
      "hello\n"
     ]
    }
   ],
   "source": [
    "print(\"hello\")"
   ]
  },
  {
   "cell_type": "markdown",
   "id": "99543c88",
   "metadata": {},
   "source": [
    "## Assignment"
   ]
  },
  {
   "cell_type": "code",
   "execution_count": 19,
   "id": "bd82d4bb",
   "metadata": {},
   "outputs": [],
   "source": [
    "a =23"
   ]
  },
  {
   "cell_type": "code",
   "execution_count": 20,
   "id": "b4512a37",
   "metadata": {},
   "outputs": [],
   "source": [
    "b = \"hi\""
   ]
  },
  {
   "cell_type": "code",
   "execution_count": 21,
   "id": "0daa5555",
   "metadata": {},
   "outputs": [
    {
     "data": {
      "text/plain": [
       "int"
      ]
     },
     "execution_count": 21,
     "metadata": {},
     "output_type": "execute_result"
    }
   ],
   "source": [
    "type(a)"
   ]
  },
  {
   "cell_type": "code",
   "execution_count": 22,
   "id": "908dc845",
   "metadata": {},
   "outputs": [
    {
     "data": {
      "text/plain": [
       "str"
      ]
     },
     "execution_count": 22,
     "metadata": {},
     "output_type": "execute_result"
    }
   ],
   "source": [
    "type(b)"
   ]
  },
  {
   "cell_type": "code",
   "execution_count": 23,
   "id": "fadab96c",
   "metadata": {},
   "outputs": [
    {
     "data": {
      "text/plain": [
       "list"
      ]
     },
     "execution_count": 23,
     "metadata": {},
     "output_type": "execute_result"
    }
   ],
   "source": [
    "type(['10', 12, \"erf\", 2.00, 234])"
   ]
  },
  {
   "cell_type": "code",
   "execution_count": 24,
   "id": "d29f203c",
   "metadata": {},
   "outputs": [
    {
     "data": {
      "text/plain": [
       "5"
      ]
     },
     "execution_count": 24,
     "metadata": {},
     "output_type": "execute_result"
    }
   ],
   "source": [
    "len(['10', 12, \"erf\", 2.00, 234])"
   ]
  },
  {
   "cell_type": "code",
   "execution_count": 26,
   "id": "0cd2acb4",
   "metadata": {},
   "outputs": [
    {
     "data": {
      "text/plain": [
       "5"
      ]
     },
     "execution_count": 26,
     "metadata": {},
     "output_type": "execute_result"
    }
   ],
   "source": [
    "len(\"hi  i\")"
   ]
  },
  {
   "cell_type": "markdown",
   "id": "07a3ef49",
   "metadata": {},
   "source": [
    "## MATH OPERATION"
   ]
  },
  {
   "cell_type": "code",
   "execution_count": 27,
   "id": "5d6bc4a8",
   "metadata": {},
   "outputs": [],
   "source": [
    "a =10\n",
    "b =5"
   ]
  },
  {
   "cell_type": "code",
   "execution_count": 28,
   "id": "a5c7c52a",
   "metadata": {},
   "outputs": [
    {
     "name": "stdout",
     "output_type": "stream",
     "text": [
      "15\n",
      "5\n",
      "50\n",
      "2.0\n",
      "60.0\n"
     ]
    }
   ],
   "source": [
    "print(a+b)\n",
    "print(a-b)\n",
    "print(a*b)\n",
    "print(a/b)\n",
    "print((a+b)*(a/b+2))"
   ]
  },
  {
   "cell_type": "markdown",
   "id": "d147afe8",
   "metadata": {},
   "source": [
    "## Printing Ways"
   ]
  },
  {
   "cell_type": "code",
   "execution_count": 32,
   "id": "9b281e8f",
   "metadata": {},
   "outputs": [],
   "source": [
    "First_name = \"rohan\"\n",
    "Initial = \"S\""
   ]
  },
  {
   "cell_type": "code",
   "execution_count": 34,
   "id": "d081cdb3",
   "metadata": {},
   "outputs": [
    {
     "name": "stdout",
     "output_type": "stream",
     "text": [
      "My name is rohan S\n"
     ]
    }
   ],
   "source": [
    "print(\"My name is {} {}\".format(First_name, Initial))"
   ]
  },
  {
   "cell_type": "code",
   "execution_count": 50,
   "id": "47e3f8a4",
   "metadata": {},
   "outputs": [
    {
     "name": "stdout",
     "output_type": "stream",
     "text": [
      "My name is rohan\n"
     ]
    }
   ],
   "source": [
    "print(f\"My name is {First_name}\")"
   ]
  },
  {
   "cell_type": "code",
   "execution_count": 55,
   "id": "41853bfd",
   "metadata": {},
   "outputs": [
    {
     "name": "stdout",
     "output_type": "stream",
     "text": [
      "October 07, 2022\n"
     ]
    }
   ],
   "source": [
    "import datetime\n",
    " \n",
    "today = datetime.datetime.today()\n",
    "print(f\"{today:%B %d, %Y}\")"
   ]
  },
  {
   "cell_type": "code",
   "execution_count": null,
   "id": "ab5cea67",
   "metadata": {},
   "outputs": [],
   "source": []
  }
 ],
 "metadata": {
  "kernelspec": {
   "display_name": "Python 3 (ipykernel)",
   "language": "python",
   "name": "python3"
  },
  "language_info": {
   "codemirror_mode": {
    "name": "ipython",
    "version": 3
   },
   "file_extension": ".py",
   "mimetype": "text/x-python",
   "name": "python",
   "nbconvert_exporter": "python",
   "pygments_lexer": "ipython3",
   "version": "3.9.12"
  }
 },
 "nbformat": 4,
 "nbformat_minor": 5
}
