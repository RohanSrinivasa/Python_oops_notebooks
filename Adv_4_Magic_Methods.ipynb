{
 "cells": [
  {
   "cell_type": "markdown",
   "id": "cfc433f3",
   "metadata": {},
   "source": [
    "# Magic Methods in classes"
   ]
  },
  {
   "cell_type": "code",
   "execution_count": 1,
   "id": "cdfd2bd1",
   "metadata": {},
   "outputs": [],
   "source": [
    "### All the class variable are public\n",
    "### Blueprint\n",
    "\n",
    "class Car():\n",
    "    def __init__(self,door,windows,enginetype):\n",
    "        self.door = door\n",
    "        self.windows = windows\n",
    "        self.enginetype = enginetype\n",
    "        \n",
    "    def drive(self):\n",
    "        print(\"The person drives the car\")"
   ]
  },
  {
   "cell_type": "code",
   "execution_count": 2,
   "id": "90e0b921",
   "metadata": {},
   "outputs": [],
   "source": [
    "car1 = Car(2,4,\"eV\")"
   ]
  },
  {
   "cell_type": "code",
   "execution_count": 3,
   "id": "044de90e",
   "metadata": {},
   "outputs": [
    {
     "data": {
      "text/plain": [
       "['__class__',\n",
       " '__delattr__',\n",
       " '__dict__',\n",
       " '__dir__',\n",
       " '__doc__',\n",
       " '__eq__',\n",
       " '__format__',\n",
       " '__ge__',\n",
       " '__getattribute__',\n",
       " '__gt__',\n",
       " '__hash__',\n",
       " '__init__',\n",
       " '__init_subclass__',\n",
       " '__le__',\n",
       " '__lt__',\n",
       " '__module__',\n",
       " '__ne__',\n",
       " '__new__',\n",
       " '__reduce__',\n",
       " '__reduce_ex__',\n",
       " '__repr__',\n",
       " '__setattr__',\n",
       " '__sizeof__',\n",
       " '__str__',\n",
       " '__subclasshook__',\n",
       " '__weakref__',\n",
       " 'door',\n",
       " 'drive',\n",
       " 'enginetype',\n",
       " 'windows']"
      ]
     },
     "execution_count": 3,
     "metadata": {},
     "output_type": "execute_result"
    }
   ],
   "source": [
    "dir(car1)"
   ]
  },
  {
   "cell_type": "code",
   "execution_count": 6,
   "id": "61823463",
   "metadata": {},
   "outputs": [
    {
     "name": "stdout",
     "output_type": "stream",
     "text": [
      "<__main__.Car object at 0x0000023DA5379E50>\n"
     ]
    }
   ],
   "source": [
    "print(car1)"
   ]
  },
  {
   "cell_type": "code",
   "execution_count": 69,
   "id": "b920edc8",
   "metadata": {},
   "outputs": [],
   "source": [
    "### All the class variable are public\n",
    "### Blueprint\n",
    "\n",
    "class Car():\n",
    "    \n",
    "    #def __new__(self,door,windows,enginetype):\n",
    "        #print (\"The object has strted to initialize\")\n",
    "        \n",
    "    def __init__(self,door,windows,enginetype):\n",
    "        self.door = door\n",
    "        self.windows = windows\n",
    "        self.enginetype = enginetype\n",
    "        \n",
    "    def __sizeof__(self):\n",
    "        return \"The overall size of the object is 128\"\n",
    "    \n",
    "    def __str__(self):\n",
    "        return (\"The object has been initialized\")\n",
    "    \n",
    "    def drive(self):\n",
    "        print(\"The person drives the car\")"
   ]
  },
  {
   "cell_type": "code",
   "execution_count": 70,
   "id": "18620497",
   "metadata": {},
   "outputs": [],
   "source": [
    "car = Car(5,4,\"EV\")"
   ]
  },
  {
   "cell_type": "code",
   "execution_count": null,
   "id": "71389113",
   "metadata": {},
   "outputs": [],
   "source": []
  },
  {
   "cell_type": "code",
   "execution_count": 71,
   "id": "4de4ac50",
   "metadata": {},
   "outputs": [
    {
     "data": {
      "text/plain": [
       "'The overall size of the object is 128'"
      ]
     },
     "execution_count": 71,
     "metadata": {},
     "output_type": "execute_result"
    }
   ],
   "source": [
    "car.__sizeof__()"
   ]
  },
  {
   "cell_type": "code",
   "execution_count": 72,
   "id": "402293a6",
   "metadata": {},
   "outputs": [
    {
     "data": {
      "text/plain": [
       "5"
      ]
     },
     "execution_count": 72,
     "metadata": {},
     "output_type": "execute_result"
    }
   ],
   "source": [
    "car.door"
   ]
  },
  {
   "cell_type": "code",
   "execution_count": null,
   "id": "a94fd673",
   "metadata": {},
   "outputs": [],
   "source": []
  }
 ],
 "metadata": {
  "kernelspec": {
   "display_name": "Python 3 (ipykernel)",
   "language": "python",
   "name": "python3"
  },
  "language_info": {
   "codemirror_mode": {
    "name": "ipython",
    "version": 3
   },
   "file_extension": ".py",
   "mimetype": "text/x-python",
   "name": "python",
   "nbconvert_exporter": "python",
   "pygments_lexer": "ipython3",
   "version": "3.9.12"
  }
 },
 "nbformat": 4,
 "nbformat_minor": 5
}
