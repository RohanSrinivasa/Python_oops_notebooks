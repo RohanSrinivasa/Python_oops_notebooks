{
 "cells": [
  {
   "cell_type": "markdown",
   "id": "eef0f744",
   "metadata": {},
   "source": [
    "# PDF Password Protection"
   ]
  },
  {
   "cell_type": "code",
   "execution_count": 1,
   "id": "3ba31db6",
   "metadata": {},
   "outputs": [
    {
     "name": "stdout",
     "output_type": "stream",
     "text": [
      "Requirement already satisfied: PyPDF2 in c:\\users\\dell\\anaconda3\\lib\\site-packages (2.11.1)\n",
      "Requirement already satisfied: typing-extensions>=3.10.0.0 in c:\\users\\dell\\anaconda3\\lib\\site-packages (from PyPDF2) (4.1.1)\n"
     ]
    }
   ],
   "source": [
    "!pip install PyPDF2"
   ]
  },
  {
   "cell_type": "code",
   "execution_count": 2,
   "id": "c8a976cc",
   "metadata": {},
   "outputs": [],
   "source": [
    "from PyPDF2 import PdfFileReader,PdfFileWriter\n"
   ]
  },
  {
   "cell_type": "code",
   "execution_count": 3,
   "id": "afa66de9",
   "metadata": {},
   "outputs": [],
   "source": [
    "# open the current pdf\n",
    "file_pdf = PdfFileReader('Coverletter_Rohan_Srinivasa - Work_Student_1.pdf')"
   ]
  },
  {
   "cell_type": "code",
   "execution_count": 4,
   "id": "bf56e221",
   "metadata": {},
   "outputs": [],
   "source": [
    "# object for pdf Writer\n",
    "out_pdf = PdfFileWriter()"
   ]
  },
  {
   "cell_type": "code",
   "execution_count": 5,
   "id": "03b146b6",
   "metadata": {},
   "outputs": [
    {
     "data": {
      "text/plain": [
       "<PyPDF2._reader.PdfFileReader at 0x20511dbe3a0>"
      ]
     },
     "execution_count": 5,
     "metadata": {},
     "output_type": "execute_result"
    }
   ],
   "source": [
    "file_pdf"
   ]
  },
  {
   "cell_type": "code",
   "execution_count": 6,
   "id": "5e93d7b9",
   "metadata": {},
   "outputs": [
    {
     "data": {
      "text/plain": [
       "<PyPDF2._writer.PdfFileWriter at 0x20511d799a0>"
      ]
     },
     "execution_count": 6,
     "metadata": {},
     "output_type": "execute_result"
    }
   ],
   "source": [
    "out_pdf"
   ]
  },
  {
   "cell_type": "code",
   "execution_count": 7,
   "id": "3b01b098",
   "metadata": {},
   "outputs": [
    {
     "data": {
      "text/plain": [
       "1"
      ]
     },
     "execution_count": 7,
     "metadata": {},
     "output_type": "execute_result"
    }
   ],
   "source": [
    "file_pdf.numPages"
   ]
  },
  {
   "cell_type": "code",
   "execution_count": 8,
   "id": "f0acfada",
   "metadata": {},
   "outputs": [],
   "source": [
    "for i in range(file_pdf.numPages):\n",
    "    page_details=file_pdf.getPage(i)\n",
    "    ### Add to the output page\n",
    "    out_pdf.addPage(page_details)"
   ]
  },
  {
   "cell_type": "code",
   "execution_count": 9,
   "id": "8f71b9b9",
   "metadata": {},
   "outputs": [],
   "source": [
    "password = 'Rohan123'"
   ]
  },
  {
   "cell_type": "code",
   "execution_count": 10,
   "id": "bc84672d",
   "metadata": {},
   "outputs": [],
   "source": [
    "out_pdf.encrypt(password)"
   ]
  },
  {
   "cell_type": "code",
   "execution_count": 11,
   "id": "80200c5b",
   "metadata": {},
   "outputs": [],
   "source": [
    "with open (\"encrypteddocument.pdf\",\"wb\") as filename:\n",
    "    out_pdf.write(filename)"
   ]
  },
  {
   "cell_type": "code",
   "execution_count": 12,
   "id": "b0f3a33e",
   "metadata": {},
   "outputs": [
    {
     "name": "stdout",
     "output_type": "stream",
     "text": [
      "Note: you may need to restart the kernel to use updated packages.\n"
     ]
    }
   ],
   "source": [
    "pip freeze > requirements.txt"
   ]
  },
  {
   "cell_type": "code",
   "execution_count": null,
   "id": "841f4cf9",
   "metadata": {},
   "outputs": [],
   "source": []
  }
 ],
 "metadata": {
  "kernelspec": {
   "display_name": "Python 3 (ipykernel)",
   "language": "python",
   "name": "python3"
  },
  "language_info": {
   "codemirror_mode": {
    "name": "ipython",
    "version": 3
   },
   "file_extension": ".py",
   "mimetype": "text/x-python",
   "name": "python",
   "nbconvert_exporter": "python",
   "pygments_lexer": "ipython3",
   "version": "3.9.12"
  }
 },
 "nbformat": 4,
 "nbformat_minor": 5
}
