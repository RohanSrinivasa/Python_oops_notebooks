{
 "cells": [
  {
   "cell_type": "markdown",
   "id": "b3fd9540",
   "metadata": {},
   "source": [
    "# Multiple Inheritance"
   ]
  },
  {
   "cell_type": "code",
   "execution_count": 1,
   "id": "6031ff29",
   "metadata": {},
   "outputs": [],
   "source": [
    "class A:\n",
    "    def method1(self):\n",
    "        print(\"A class method is called\")\n",
    "        "
   ]
  },
  {
   "cell_type": "code",
   "execution_count": 2,
   "id": "ce489fc6",
   "metadata": {},
   "outputs": [],
   "source": [
    "class B(A):\n",
    "    def method1(self):\n",
    "        print(\"B class method is called\")\n",
    "    def method2(self):\n",
    "        print(\"B class method is called\")"
   ]
  },
  {
   "cell_type": "code",
   "execution_count": 3,
   "id": "d2d443ee",
   "metadata": {},
   "outputs": [],
   "source": [
    "class C(A):\n",
    "    def method1(self):\n",
    "        print(\"C class method is called\")\n",
    "    def method2(self):\n",
    "        print(\"C class method is called\")"
   ]
  },
  {
   "cell_type": "code",
   "execution_count": 4,
   "id": "ca4164f6",
   "metadata": {},
   "outputs": [],
   "source": [
    "class D(B,C):\n",
    "    def method1(self):\n",
    "        print(\"D class method is called\")"
   ]
  },
  {
   "cell_type": "code",
   "execution_count": 5,
   "id": "d193ceb2",
   "metadata": {},
   "outputs": [],
   "source": [
    "d = D()"
   ]
  },
  {
   "cell_type": "code",
   "execution_count": 7,
   "id": "64883dfa",
   "metadata": {},
   "outputs": [
    {
     "name": "stdout",
     "output_type": "stream",
     "text": [
      "D class method is called\n"
     ]
    }
   ],
   "source": [
    "d.method1()"
   ]
  },
  {
   "cell_type": "code",
   "execution_count": 8,
   "id": "51be08d7",
   "metadata": {},
   "outputs": [
    {
     "name": "stdout",
     "output_type": "stream",
     "text": [
      "B class method is called\n"
     ]
    }
   ],
   "source": [
    "## Calling Parent Method\n",
    "\n",
    "B.method2(d)"
   ]
  },
  {
   "cell_type": "code",
   "execution_count": 10,
   "id": "26bb6006",
   "metadata": {},
   "outputs": [
    {
     "name": "stdout",
     "output_type": "stream",
     "text": [
      "A class method is called\n"
     ]
    }
   ],
   "source": [
    "A.method1(d)"
   ]
  },
  {
   "cell_type": "code",
   "execution_count": 14,
   "id": "fe6bebc7",
   "metadata": {},
   "outputs": [],
   "source": [
    "# How to call all the parent methods in a single execution\n",
    "\n",
    "class D(B,C):\n",
    "    def method1(self):\n",
    "        print(\"D class method is called\")\n",
    "        B.method1(self)\n",
    "        B.method2(self)\n",
    "        C.method1(self)\n",
    "        C.method2(self)\n",
    "        A.method1(self)\n"
   ]
  },
  {
   "cell_type": "code",
   "execution_count": 15,
   "id": "bf3d4e94",
   "metadata": {},
   "outputs": [],
   "source": [
    "ed = D()"
   ]
  },
  {
   "cell_type": "code",
   "execution_count": 16,
   "id": "c3021b02",
   "metadata": {},
   "outputs": [
    {
     "name": "stdout",
     "output_type": "stream",
     "text": [
      "D class method is called\n",
      "B class method is called\n",
      "B class method is called\n",
      "C class method is called\n",
      "C class method is called\n",
      "A class method is called\n"
     ]
    }
   ],
   "source": [
    "ed.method1()"
   ]
  },
  {
   "cell_type": "code",
   "execution_count": null,
   "id": "f372d3c1",
   "metadata": {},
   "outputs": [],
   "source": []
  }
 ],
 "metadata": {
  "kernelspec": {
   "display_name": "Python 3 (ipykernel)",
   "language": "python",
   "name": "python3"
  },
  "language_info": {
   "codemirror_mode": {
    "name": "ipython",
    "version": 3
   },
   "file_extension": ".py",
   "mimetype": "text/x-python",
   "name": "python",
   "nbconvert_exporter": "python",
   "pygments_lexer": "ipython3",
   "version": "3.9.12"
  }
 },
 "nbformat": 4,
 "nbformat_minor": 5
}
