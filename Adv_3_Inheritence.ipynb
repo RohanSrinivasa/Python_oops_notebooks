{
 "cells": [
  {
   "cell_type": "markdown",
   "id": "0d9ffebe",
   "metadata": {},
   "source": [
    "# OOPS Inheritance"
   ]
  },
  {
   "cell_type": "code",
   "execution_count": 3,
   "id": "3c090711",
   "metadata": {},
   "outputs": [],
   "source": [
    "### All the class variable are public\n",
    "### Blueprint\n",
    "\n",
    "class Car():\n",
    "    def __init__(self,door,windows,enginetype):\n",
    "        self.door = door\n",
    "        self.windows = windows\n",
    "        self.enginetype = enginetype\n",
    "        \n",
    "    def drive(self):\n",
    "        print(\"The person drives the car\")"
   ]
  },
  {
   "cell_type": "code",
   "execution_count": 4,
   "id": "ce6c4396",
   "metadata": {},
   "outputs": [],
   "source": [
    "car = Car(4,3,\"diesel\")"
   ]
  },
  {
   "cell_type": "code",
   "execution_count": 5,
   "id": "31ef5992",
   "metadata": {},
   "outputs": [
    {
     "data": {
      "text/plain": [
       "'diesel'"
      ]
     },
     "execution_count": 5,
     "metadata": {},
     "output_type": "execute_result"
    }
   ],
   "source": [
    "car.enginetype"
   ]
  },
  {
   "cell_type": "code",
   "execution_count": 7,
   "id": "7ff22f5f",
   "metadata": {},
   "outputs": [
    {
     "name": "stdout",
     "output_type": "stream",
     "text": [
      "The person drives the car\n"
     ]
    }
   ],
   "source": [
    "car.drive()"
   ]
  },
  {
   "cell_type": "code",
   "execution_count": 10,
   "id": "bc727365",
   "metadata": {},
   "outputs": [
    {
     "data": {
      "text/plain": [
       "['__class__',\n",
       " '__delattr__',\n",
       " '__dict__',\n",
       " '__dir__',\n",
       " '__doc__',\n",
       " '__eq__',\n",
       " '__format__',\n",
       " '__ge__',\n",
       " '__getattribute__',\n",
       " '__gt__',\n",
       " '__hash__',\n",
       " '__init__',\n",
       " '__init_subclass__',\n",
       " '__le__',\n",
       " '__lt__',\n",
       " '__module__',\n",
       " '__ne__',\n",
       " '__new__',\n",
       " '__reduce__',\n",
       " '__reduce_ex__',\n",
       " '__repr__',\n",
       " '__setattr__',\n",
       " '__sizeof__',\n",
       " '__str__',\n",
       " '__subclasshook__',\n",
       " '__weakref__',\n",
       " 'door',\n",
       " 'drive',\n",
       " 'enginetype',\n",
       " 'windows']"
      ]
     },
     "execution_count": 10,
     "metadata": {},
     "output_type": "execute_result"
    }
   ],
   "source": [
    "dir(car)"
   ]
  },
  {
   "cell_type": "code",
   "execution_count": 11,
   "id": "eb025fac",
   "metadata": {},
   "outputs": [],
   "source": [
    "## Inherit Car class into Audi class\n",
    "\n",
    "class Audi(Car):\n",
    "    def __init__(self,door,windows,enginetype,enableAI):\n",
    "        super().__init__(door,windows,enginetype)\n",
    "        self.enableAI = enableAI\n",
    "        \n",
    "    def self_drive(self):\n",
    "        print(\"Audi supports self driving and lane assist\")"
   ]
  },
  {
   "cell_type": "code",
   "execution_count": 12,
   "id": "0397f19d",
   "metadata": {},
   "outputs": [],
   "source": [
    "Audi_Q7 = Audi(4,5,\"Hybrid\",\"Yes\")"
   ]
  },
  {
   "cell_type": "code",
   "execution_count": 13,
   "id": "f1668876",
   "metadata": {},
   "outputs": [
    {
     "data": {
      "text/plain": [
       "5"
      ]
     },
     "execution_count": 13,
     "metadata": {},
     "output_type": "execute_result"
    }
   ],
   "source": [
    "Audi_Q7.windows"
   ]
  },
  {
   "cell_type": "code",
   "execution_count": 14,
   "id": "b5c60b75",
   "metadata": {},
   "outputs": [
    {
     "data": {
      "text/plain": [
       "'Yes'"
      ]
     },
     "execution_count": 14,
     "metadata": {},
     "output_type": "execute_result"
    }
   ],
   "source": [
    "Audi_Q7.enableAI"
   ]
  },
  {
   "cell_type": "code",
   "execution_count": 15,
   "id": "ff034e80",
   "metadata": {},
   "outputs": [
    {
     "data": {
      "text/plain": [
       "'Hybrid'"
      ]
     },
     "execution_count": 15,
     "metadata": {},
     "output_type": "execute_result"
    }
   ],
   "source": [
    "Audi_Q7.enginetype"
   ]
  },
  {
   "cell_type": "code",
   "execution_count": 16,
   "id": "dc4628a8",
   "metadata": {},
   "outputs": [
    {
     "name": "stdout",
     "output_type": "stream",
     "text": [
      "The person drives the car\n"
     ]
    }
   ],
   "source": [
    "Audi_Q7.drive()"
   ]
  },
  {
   "cell_type": "code",
   "execution_count": 18,
   "id": "a5a98202",
   "metadata": {},
   "outputs": [
    {
     "name": "stdout",
     "output_type": "stream",
     "text": [
      "Audi supports self driving and lane assist\n"
     ]
    }
   ],
   "source": [
    "Audi_Q7.self_drive()"
   ]
  },
  {
   "cell_type": "code",
   "execution_count": 20,
   "id": "e3159dac",
   "metadata": {},
   "outputs": [
    {
     "data": {
      "text/plain": [
       "['__class__',\n",
       " '__delattr__',\n",
       " '__dict__',\n",
       " '__dir__',\n",
       " '__doc__',\n",
       " '__eq__',\n",
       " '__format__',\n",
       " '__ge__',\n",
       " '__getattribute__',\n",
       " '__gt__',\n",
       " '__hash__',\n",
       " '__init__',\n",
       " '__init_subclass__',\n",
       " '__le__',\n",
       " '__lt__',\n",
       " '__module__',\n",
       " '__ne__',\n",
       " '__new__',\n",
       " '__reduce__',\n",
       " '__reduce_ex__',\n",
       " '__repr__',\n",
       " '__setattr__',\n",
       " '__sizeof__',\n",
       " '__str__',\n",
       " '__subclasshook__',\n",
       " '__weakref__',\n",
       " 'door',\n",
       " 'drive',\n",
       " 'enableAI',\n",
       " 'enginetype',\n",
       " 'self_drive',\n",
       " 'windows']"
      ]
     },
     "execution_count": 20,
     "metadata": {},
     "output_type": "execute_result"
    }
   ],
   "source": [
    "dir(Audi_Q7)"
   ]
  },
  {
   "cell_type": "code",
   "execution_count": null,
   "id": "d0801b9f",
   "metadata": {},
   "outputs": [],
   "source": []
  }
 ],
 "metadata": {
  "kernelspec": {
   "display_name": "Python 3 (ipykernel)",
   "language": "python",
   "name": "python3"
  },
  "language_info": {
   "codemirror_mode": {
    "name": "ipython",
    "version": 3
   },
   "file_extension": ".py",
   "mimetype": "text/x-python",
   "name": "python",
   "nbconvert_exporter": "python",
   "pygments_lexer": "ipython3",
   "version": "3.9.12"
  }
 },
 "nbformat": 4,
 "nbformat_minor": 5
}
