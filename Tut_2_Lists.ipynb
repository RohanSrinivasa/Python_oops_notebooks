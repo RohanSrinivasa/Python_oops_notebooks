{
 "cells": [
  {
   "cell_type": "markdown",
   "id": "b6688456",
   "metadata": {},
   "source": [
    "# PYTHON LISTS"
   ]
  },
  {
   "cell_type": "markdown",
   "id": "7efb8442",
   "metadata": {},
   "source": [
    "## BOOLEAN AND LISTS"
   ]
  },
  {
   "cell_type": "code",
   "execution_count": 2,
   "id": "379d75c1",
   "metadata": {},
   "outputs": [
    {
     "data": {
      "text/plain": [
       "False"
      ]
     },
     "execution_count": 2,
     "metadata": {},
     "output_type": "execute_result"
    }
   ],
   "source": [
    "bool()"
   ]
  },
  {
   "cell_type": "code",
   "execution_count": 3,
   "id": "0eedfcbd",
   "metadata": {},
   "outputs": [
    {
     "data": {
      "text/plain": [
       "True"
      ]
     },
     "execution_count": 3,
     "metadata": {},
     "output_type": "execute_result"
    }
   ],
   "source": [
    "bool(1)"
   ]
  },
  {
   "cell_type": "code",
   "execution_count": 4,
   "id": "91ac5dbd",
   "metadata": {},
   "outputs": [
    {
     "data": {
      "text/plain": [
       "True"
      ]
     },
     "execution_count": 4,
     "metadata": {},
     "output_type": "execute_result"
    }
   ],
   "source": [
    "bool(4)"
   ]
  },
  {
   "cell_type": "code",
   "execution_count": 5,
   "id": "edcd577a",
   "metadata": {},
   "outputs": [
    {
     "data": {
      "text/plain": [
       "True"
      ]
     },
     "execution_count": 5,
     "metadata": {},
     "output_type": "execute_result"
    }
   ],
   "source": [
    "bool(-34)"
   ]
  },
  {
   "cell_type": "code",
   "execution_count": 14,
   "id": "216ab445",
   "metadata": {},
   "outputs": [],
   "source": [
    "my_str = \"rohansrinivasa\""
   ]
  },
  {
   "cell_type": "code",
   "execution_count": 15,
   "id": "766f3ac0",
   "metadata": {},
   "outputs": [
    {
     "data": {
      "text/plain": [
       "False"
      ]
     },
     "execution_count": 15,
     "metadata": {},
     "output_type": "execute_result"
    }
   ],
   "source": [
    "my_str.isdecimal()"
   ]
  },
  {
   "cell_type": "code",
   "execution_count": 17,
   "id": "51791e67",
   "metadata": {},
   "outputs": [
    {
     "name": "stdout",
     "output_type": "stream",
     "text": [
      "True\n",
      "True\n",
      "True\n",
      "False\n",
      "True\n",
      "False\n",
      "True\n",
      "True\n",
      "False\n"
     ]
    }
   ],
   "source": [
    "print(my_str.isalnum())\n",
    "print(my_str.isalpha())\n",
    "print(my_str.isascii())\n",
    "print(my_str.isdecimal())\n",
    "print(my_str.isidentifier())\n",
    "print(my_str.isspace())\n",
    "print(my_str.islower())\n",
    "print(my_str.endswith('a'))\n",
    "print(my_str.istitle())"
   ]
  },
  {
   "cell_type": "code",
   "execution_count": 18,
   "id": "ce5ead08",
   "metadata": {},
   "outputs": [
    {
     "data": {
      "text/plain": [
       "False"
      ]
     },
     "execution_count": 18,
     "metadata": {},
     "output_type": "execute_result"
    }
   ],
   "source": [
    "True and False"
   ]
  },
  {
   "cell_type": "code",
   "execution_count": 19,
   "id": "82381245",
   "metadata": {},
   "outputs": [
    {
     "data": {
      "text/plain": [
       "True"
      ]
     },
     "execution_count": 19,
     "metadata": {},
     "output_type": "execute_result"
    }
   ],
   "source": [
    "True or False"
   ]
  },
  {
   "cell_type": "code",
   "execution_count": 20,
   "id": "34399083",
   "metadata": {},
   "outputs": [],
   "source": [
    "my_str = \"rohansrinivasa\"\n",
    "str_ex = \"Hello Word\""
   ]
  },
  {
   "cell_type": "code",
   "execution_count": 22,
   "id": "0d5e21e5",
   "metadata": {},
   "outputs": [
    {
     "data": {
      "text/plain": [
       "True"
      ]
     },
     "execution_count": 22,
     "metadata": {},
     "output_type": "execute_result"
    }
   ],
   "source": [
    "my_str.isalpha() or str_ex.title()"
   ]
  },
  {
   "cell_type": "markdown",
   "id": "59b71215",
   "metadata": {},
   "source": [
    "# Lists"
   ]
  },
  {
   "cell_type": "code",
   "execution_count": 23,
   "id": "f8a6fd57",
   "metadata": {},
   "outputs": [
    {
     "data": {
      "text/plain": [
       "list"
      ]
     },
     "execution_count": 23,
     "metadata": {},
     "output_type": "execute_result"
    }
   ],
   "source": [
    "type([])"
   ]
  },
  {
   "cell_type": "code",
   "execution_count": 24,
   "id": "614e4a0a",
   "metadata": {},
   "outputs": [],
   "source": [
    "ex_1 = [\n",
    "    \n",
    "]"
   ]
  },
  {
   "cell_type": "code",
   "execution_count": 25,
   "id": "fb9f048a",
   "metadata": {},
   "outputs": [
    {
     "data": {
      "text/plain": [
       "list"
      ]
     },
     "execution_count": 25,
     "metadata": {},
     "output_type": "execute_result"
    }
   ],
   "source": [
    "type(ex_1)"
   ]
  },
  {
   "cell_type": "code",
   "execution_count": 44,
   "id": "879c9f3c",
   "metadata": {},
   "outputs": [],
   "source": [
    "lst = list(\"Hello\")"
   ]
  },
  {
   "cell_type": "code",
   "execution_count": 46,
   "id": "d3a87aa0",
   "metadata": {},
   "outputs": [
    {
     "data": {
      "text/plain": [
       "['H', 'e', 'l', 'l', 'o']"
      ]
     },
     "execution_count": 46,
     "metadata": {},
     "output_type": "execute_result"
    }
   ],
   "source": [
    "lst"
   ]
  },
  {
   "cell_type": "code",
   "execution_count": 47,
   "id": "ab5b0502",
   "metadata": {},
   "outputs": [
    {
     "data": {
      "text/plain": [
       "list"
      ]
     },
     "execution_count": 47,
     "metadata": {},
     "output_type": "execute_result"
    }
   ],
   "source": [
    "type(lst)"
   ]
  },
  {
   "cell_type": "code",
   "execution_count": 49,
   "id": "44ccc0a3",
   "metadata": {},
   "outputs": [],
   "source": [
    "lst = [\"mexico\",\"canada\",10,12,00.1]"
   ]
  },
  {
   "cell_type": "code",
   "execution_count": 50,
   "id": "8a8fcff5",
   "metadata": {},
   "outputs": [
    {
     "data": {
      "text/plain": [
       "['mexico', 'canada', 10, 12, 0.1]"
      ]
     },
     "execution_count": 50,
     "metadata": {},
     "output_type": "execute_result"
    }
   ],
   "source": [
    "lst"
   ]
  },
  {
   "cell_type": "markdown",
   "id": "07657841",
   "metadata": {},
   "source": [
    "# List Append"
   ]
  },
  {
   "cell_type": "code",
   "execution_count": 51,
   "id": "635d1d68",
   "metadata": {},
   "outputs": [],
   "source": [
    "lst.append(\"hello\")"
   ]
  },
  {
   "cell_type": "code",
   "execution_count": 52,
   "id": "7490eee3",
   "metadata": {},
   "outputs": [
    {
     "data": {
      "text/plain": [
       "['mexico', 'canada', 10, 12, 0.1, 'hello']"
      ]
     },
     "execution_count": 52,
     "metadata": {},
     "output_type": "execute_result"
    }
   ],
   "source": [
    "lst"
   ]
  },
  {
   "cell_type": "code",
   "execution_count": 55,
   "id": "405932a7",
   "metadata": {},
   "outputs": [],
   "source": [
    "lst.append(\"yoo , hoo\")"
   ]
  },
  {
   "cell_type": "code",
   "execution_count": 56,
   "id": "9cd4b23b",
   "metadata": {},
   "outputs": [
    {
     "data": {
      "text/plain": [
       "['mexico', 'canada', 10, 12, 0.1, 'hello', 'yoo , hoo']"
      ]
     },
     "execution_count": 56,
     "metadata": {},
     "output_type": "execute_result"
    }
   ],
   "source": [
    "lst"
   ]
  },
  {
   "cell_type": "code",
   "execution_count": 57,
   "id": "4ff9e34b",
   "metadata": {},
   "outputs": [
    {
     "data": {
      "text/plain": [
       "7"
      ]
     },
     "execution_count": 57,
     "metadata": {},
     "output_type": "execute_result"
    }
   ],
   "source": [
    "len(lst)"
   ]
  },
  {
   "cell_type": "code",
   "execution_count": 58,
   "id": "1abc51bd",
   "metadata": {},
   "outputs": [],
   "source": [
    "lst.append([\"are\",\"you\",\"good\"])"
   ]
  },
  {
   "cell_type": "code",
   "execution_count": 59,
   "id": "e98a4ed1",
   "metadata": {},
   "outputs": [
    {
     "data": {
      "text/plain": [
       "['mexico', 'canada', 10, 12, 0.1, 'hello', 'yoo , hoo', ['are', 'you', 'good']]"
      ]
     },
     "execution_count": 59,
     "metadata": {},
     "output_type": "execute_result"
    }
   ],
   "source": [
    "lst"
   ]
  },
  {
   "cell_type": "markdown",
   "id": "33b453b9",
   "metadata": {},
   "source": [
    "# List Slicing"
   ]
  },
  {
   "cell_type": "code",
   "execution_count": 60,
   "id": "275dca7c",
   "metadata": {},
   "outputs": [
    {
     "data": {
      "text/plain": [
       "'mexico'"
      ]
     },
     "execution_count": 60,
     "metadata": {},
     "output_type": "execute_result"
    }
   ],
   "source": [
    "lst[0]"
   ]
  },
  {
   "cell_type": "code",
   "execution_count": 61,
   "id": "9d283ac2",
   "metadata": {},
   "outputs": [
    {
     "data": {
      "text/plain": [
       "['mexico', 'canada', 10, 12, 0.1, 'hello', 'yoo , hoo', ['are', 'you', 'good']]"
      ]
     },
     "execution_count": 61,
     "metadata": {},
     "output_type": "execute_result"
    }
   ],
   "source": [
    "lst[:]"
   ]
  },
  {
   "cell_type": "code",
   "execution_count": 62,
   "id": "cd116ca4",
   "metadata": {},
   "outputs": [
    {
     "data": {
      "text/plain": [
       "[10, 12, 0.1, 'hello', 'yoo , hoo']"
      ]
     },
     "execution_count": 62,
     "metadata": {},
     "output_type": "execute_result"
    }
   ],
   "source": [
    "lst[2:7]"
   ]
  },
  {
   "cell_type": "code",
   "execution_count": 63,
   "id": "6c06408c",
   "metadata": {},
   "outputs": [],
   "source": [
    "##Insert\n",
    "\n",
    "lst.insert(2,\"inserted\")"
   ]
  },
  {
   "cell_type": "code",
   "execution_count": 64,
   "id": "b22861e6",
   "metadata": {},
   "outputs": [
    {
     "data": {
      "text/plain": [
       "['mexico',\n",
       " 'canada',\n",
       " 'inserted',\n",
       " 10,\n",
       " 12,\n",
       " 0.1,\n",
       " 'hello',\n",
       " 'yoo , hoo',\n",
       " ['are', 'you', 'good']]"
      ]
     },
     "execution_count": 64,
     "metadata": {},
     "output_type": "execute_result"
    }
   ],
   "source": [
    "lst"
   ]
  },
  {
   "cell_type": "code",
   "execution_count": 70,
   "id": "7d30c940",
   "metadata": {},
   "outputs": [],
   "source": [
    "# Extend Method\n",
    "\n",
    "new_lst = [1,2,3,4,5,6,7,8]"
   ]
  },
  {
   "cell_type": "code",
   "execution_count": 72,
   "id": "01d09c6b",
   "metadata": {},
   "outputs": [
    {
     "data": {
      "text/plain": [
       "[1, 2, 3, 4, 5, 6, 7, 8]"
      ]
     },
     "execution_count": 72,
     "metadata": {},
     "output_type": "execute_result"
    }
   ],
   "source": [
    "new_lst"
   ]
  },
  {
   "cell_type": "code",
   "execution_count": 73,
   "id": "38c45a47",
   "metadata": {},
   "outputs": [],
   "source": [
    "new_lst.extend([9,10])"
   ]
  },
  {
   "cell_type": "code",
   "execution_count": 74,
   "id": "ca1da467",
   "metadata": {},
   "outputs": [
    {
     "data": {
      "text/plain": [
       "[1, 2, 3, 4, 5, 6, 7, 8, 9, 10]"
      ]
     },
     "execution_count": 74,
     "metadata": {},
     "output_type": "execute_result"
    }
   ],
   "source": [
    "new_lst"
   ]
  },
  {
   "cell_type": "markdown",
   "id": "d8c6644d",
   "metadata": {},
   "source": [
    "# List Operations"
   ]
  },
  {
   "cell_type": "code",
   "execution_count": 76,
   "id": "ae569e44",
   "metadata": {},
   "outputs": [
    {
     "data": {
      "text/plain": [
       "55"
      ]
     },
     "execution_count": 76,
     "metadata": {},
     "output_type": "execute_result"
    }
   ],
   "source": [
    "# Sum Operation\n",
    "sum(new_lst)"
   ]
  },
  {
   "cell_type": "code",
   "execution_count": 77,
   "id": "d70cad2e",
   "metadata": {},
   "outputs": [
    {
     "data": {
      "text/plain": [
       "10"
      ]
     },
     "execution_count": 77,
     "metadata": {},
     "output_type": "execute_result"
    }
   ],
   "source": [
    "# Pop (Removes the last item)\n",
    "new_lst.pop()"
   ]
  },
  {
   "cell_type": "code",
   "execution_count": 78,
   "id": "07b1068f",
   "metadata": {},
   "outputs": [
    {
     "data": {
      "text/plain": [
       "[1, 2, 3, 4, 5, 6, 7, 8, 9]"
      ]
     },
     "execution_count": 78,
     "metadata": {},
     "output_type": "execute_result"
    }
   ],
   "source": [
    "new_lst"
   ]
  },
  {
   "cell_type": "code",
   "execution_count": 80,
   "id": "93c49f90",
   "metadata": {},
   "outputs": [
    {
     "data": {
      "text/plain": [
       "9"
      ]
     },
     "execution_count": 80,
     "metadata": {},
     "output_type": "execute_result"
    }
   ],
   "source": [
    "new_lst.pop(8)"
   ]
  },
  {
   "cell_type": "code",
   "execution_count": 81,
   "id": "78793071",
   "metadata": {},
   "outputs": [
    {
     "data": {
      "text/plain": [
       "[1, 2, 3, 4, 5, 6, 7, 8]"
      ]
     },
     "execution_count": 81,
     "metadata": {},
     "output_type": "execute_result"
    }
   ],
   "source": [
    "new_lst"
   ]
  },
  {
   "cell_type": "code",
   "execution_count": 82,
   "id": "f79eaa23",
   "metadata": {},
   "outputs": [],
   "source": [
    "#count\n",
    "\n",
    "lst_1 = [1,2,1,1,3,4,5,6,7,8]"
   ]
  },
  {
   "cell_type": "code",
   "execution_count": 83,
   "id": "cfde377d",
   "metadata": {},
   "outputs": [
    {
     "data": {
      "text/plain": [
       "3"
      ]
     },
     "execution_count": 83,
     "metadata": {},
     "output_type": "execute_result"
    }
   ],
   "source": [
    "lst_1.count(1)"
   ]
  },
  {
   "cell_type": "code",
   "execution_count": 85,
   "id": "f8eb7cbb",
   "metadata": {},
   "outputs": [
    {
     "data": {
      "text/plain": [
       "0"
      ]
     },
     "execution_count": 85,
     "metadata": {},
     "output_type": "execute_result"
    }
   ],
   "source": [
    "# Index\n",
    "lst_1.index(1,0,4)"
   ]
  },
  {
   "cell_type": "code",
   "execution_count": 86,
   "id": "0e00c6bf",
   "metadata": {},
   "outputs": [
    {
     "data": {
      "text/plain": [
       "2"
      ]
     },
     "execution_count": 86,
     "metadata": {},
     "output_type": "execute_result"
    }
   ],
   "source": [
    "lst_1.index(1,1,4)"
   ]
  },
  {
   "cell_type": "code",
   "execution_count": 87,
   "id": "8f34df0b",
   "metadata": {},
   "outputs": [
    {
     "data": {
      "text/plain": [
       "3"
      ]
     },
     "execution_count": 87,
     "metadata": {},
     "output_type": "execute_result"
    }
   ],
   "source": [
    "lst_1.index(1,3,4)"
   ]
  },
  {
   "cell_type": "code",
   "execution_count": 88,
   "id": "24cd128d",
   "metadata": {},
   "outputs": [
    {
     "ename": "ValueError",
     "evalue": "1 is not in list",
     "output_type": "error",
     "traceback": [
      "\u001b[1;31m---------------------------------------------------------------------------\u001b[0m",
      "\u001b[1;31mValueError\u001b[0m                                Traceback (most recent call last)",
      "Input \u001b[1;32mIn [88]\u001b[0m, in \u001b[0;36m<cell line: 1>\u001b[1;34m()\u001b[0m\n\u001b[1;32m----> 1\u001b[0m \u001b[43mlst_1\u001b[49m\u001b[38;5;241;43m.\u001b[39;49m\u001b[43mindex\u001b[49m\u001b[43m(\u001b[49m\u001b[38;5;241;43m1\u001b[39;49m\u001b[43m,\u001b[49m\u001b[38;5;241;43m4\u001b[39;49m\u001b[43m,\u001b[49m\u001b[38;5;241;43m6\u001b[39;49m\u001b[43m)\u001b[49m\n",
      "\u001b[1;31mValueError\u001b[0m: 1 is not in list"
     ]
    }
   ],
   "source": [
    "lst_1.index(1,4,6)"
   ]
  },
  {
   "cell_type": "code",
   "execution_count": 89,
   "id": "a03fa921",
   "metadata": {},
   "outputs": [
    {
     "data": {
      "text/plain": [
       "1"
      ]
     },
     "execution_count": 89,
     "metadata": {},
     "output_type": "execute_result"
    }
   ],
   "source": [
    "# Min and Max\n",
    "min(lst_1)"
   ]
  },
  {
   "cell_type": "code",
   "execution_count": 90,
   "id": "516b70b5",
   "metadata": {},
   "outputs": [
    {
     "data": {
      "text/plain": [
       "8"
      ]
     },
     "execution_count": 90,
     "metadata": {},
     "output_type": "execute_result"
    }
   ],
   "source": [
    "max(lst_1)"
   ]
  },
  {
   "cell_type": "code",
   "execution_count": 92,
   "id": "b2711b3c",
   "metadata": {},
   "outputs": [
    {
     "data": {
      "text/plain": [
       "[1, 2, 3, 4, 5, 6, 7, 8, 1, 2, 3, 4, 5, 6, 7, 8]"
      ]
     },
     "execution_count": 92,
     "metadata": {},
     "output_type": "execute_result"
    }
   ],
   "source": [
    "new_lst * 2"
   ]
  },
  {
   "cell_type": "code",
   "execution_count": null,
   "id": "f3bb9521",
   "metadata": {},
   "outputs": [],
   "source": []
  }
 ],
 "metadata": {
  "kernelspec": {
   "display_name": "Python 3 (ipykernel)",
   "language": "python",
   "name": "python3"
  },
  "language_info": {
   "codemirror_mode": {
    "name": "ipython",
    "version": 3
   },
   "file_extension": ".py",
   "mimetype": "text/x-python",
   "name": "python",
   "nbconvert_exporter": "python",
   "pygments_lexer": "ipython3",
   "version": "3.9.12"
  }
 },
 "nbformat": 4,
 "nbformat_minor": 5
}
