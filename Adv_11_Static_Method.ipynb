{
 "cells": [
  {
   "cell_type": "markdown",
   "id": "092a0e92",
   "metadata": {},
   "source": [
    "# Static Methods"
   ]
  },
  {
   "cell_type": "code",
   "execution_count": 56,
   "id": "048c399f",
   "metadata": {},
   "outputs": [],
   "source": [
    "import datetime\n",
    "now = datetime.datetime.now()"
   ]
  },
  {
   "cell_type": "code",
   "execution_count": 57,
   "id": "a7c74a78",
   "metadata": {},
   "outputs": [
    {
     "data": {
      "text/plain": [
       "datetime.datetime(2022, 10, 16, 14, 7, 42, 789831)"
      ]
     },
     "execution_count": 57,
     "metadata": {},
     "output_type": "execute_result"
    }
   ],
   "source": [
    "now"
   ]
  },
  {
   "cell_type": "code",
   "execution_count": 58,
   "id": "6b89a978",
   "metadata": {},
   "outputs": [
    {
     "data": {
      "text/plain": [
       "2022"
      ]
     },
     "execution_count": 58,
     "metadata": {},
     "output_type": "execute_result"
    }
   ],
   "source": [
    "now.year"
   ]
  },
  {
   "cell_type": "code",
   "execution_count": 89,
   "id": "90481c2a",
   "metadata": {},
   "outputs": [],
   "source": [
    "class Car:\n",
    "    base_price = 100000 ## class variable\n",
    "    \n",
    "    def __init__(self,doors,windows,power):\n",
    "        self.doors = doors\n",
    "        self.windows = windows\n",
    "        self.power = power\n",
    "    \n",
    "    def what_base_price(self):\n",
    "        print(\"The base price of the car is {}\".format(self.base_price))\n",
    "        \n",
    "    @classmethod\n",
    "    def revise_base_price(cls,inflation):\n",
    "        cls.base_price = cls.base_price + cls.base_price * inflation\n",
    "        \n",
    "    @staticmethod\n",
    "    def check_year():\n",
    "        if now.year == 2023:\n",
    "            return True\n",
    "        else:\n",
    "            return False"
   ]
  },
  {
   "cell_type": "code",
   "execution_count": 90,
   "id": "016c3395",
   "metadata": {},
   "outputs": [],
   "source": [
    "car1 = Car(4,5,260)"
   ]
  },
  {
   "cell_type": "code",
   "execution_count": 91,
   "id": "c427d595",
   "metadata": {},
   "outputs": [
    {
     "data": {
      "text/plain": [
       "100000"
      ]
     },
     "execution_count": 91,
     "metadata": {},
     "output_type": "execute_result"
    }
   ],
   "source": [
    "car1.base_price"
   ]
  },
  {
   "cell_type": "code",
   "execution_count": 92,
   "id": "02e8fe80",
   "metadata": {},
   "outputs": [
    {
     "data": {
      "text/plain": [
       "False"
      ]
     },
     "execution_count": 92,
     "metadata": {},
     "output_type": "execute_result"
    }
   ],
   "source": [
    "car1.check_year()\n"
   ]
  },
  {
   "cell_type": "code",
   "execution_count": 93,
   "id": "fce331f1",
   "metadata": {},
   "outputs": [],
   "source": [
    "Car.revise_base_price(10)"
   ]
  },
  {
   "cell_type": "code",
   "execution_count": 94,
   "id": "5f8dcb71",
   "metadata": {},
   "outputs": [
    {
     "data": {
      "text/plain": [
       "1100000"
      ]
     },
     "execution_count": 94,
     "metadata": {},
     "output_type": "execute_result"
    }
   ],
   "source": [
    "Car.base_price"
   ]
  },
  {
   "cell_type": "code",
   "execution_count": 95,
   "id": "b52295a3",
   "metadata": {},
   "outputs": [
    {
     "name": "stdout",
     "output_type": "stream",
     "text": [
      "This model not available\n"
     ]
    }
   ],
   "source": [
    "if (car1.check_year()):\n",
    "    pass\n",
    "else:\n",
    "    if now.year == 2021:\n",
    "        car1.revise_base_price(-10)\n",
    "    elif now.year == 2023:\n",
    "        car1.revise_base_price(10)\n",
    "    else:\n",
    "        print(\"This model not available\")\n",
    "    "
   ]
  },
  {
   "cell_type": "code",
   "execution_count": 96,
   "id": "4242bdf8",
   "metadata": {},
   "outputs": [
    {
     "data": {
      "text/plain": [
       "1100000"
      ]
     },
     "execution_count": 96,
     "metadata": {},
     "output_type": "execute_result"
    }
   ],
   "source": [
    "car1.base_price"
   ]
  },
  {
   "cell_type": "code",
   "execution_count": null,
   "id": "55fb0f6e",
   "metadata": {},
   "outputs": [],
   "source": []
  }
 ],
 "metadata": {
  "kernelspec": {
   "display_name": "Python 3 (ipykernel)",
   "language": "python",
   "name": "python3"
  },
  "language_info": {
   "codemirror_mode": {
    "name": "ipython",
    "version": 3
   },
   "file_extension": ".py",
   "mimetype": "text/x-python",
   "name": "python",
   "nbconvert_exporter": "python",
   "pygments_lexer": "ipython3",
   "version": "3.9.12"
  }
 },
 "nbformat": 4,
 "nbformat_minor": 5
}
