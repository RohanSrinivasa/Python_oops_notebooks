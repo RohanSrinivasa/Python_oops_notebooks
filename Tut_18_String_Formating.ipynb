{
 "cells": [
  {
   "cell_type": "markdown",
   "id": "1e3405a5",
   "metadata": {},
   "source": [
    "# Advance String Formating "
   ]
  },
  {
   "cell_type": "code",
   "execution_count": 2,
   "id": "bc17a081",
   "metadata": {},
   "outputs": [],
   "source": [
    "def Welcome_email(name, position, city, country):\n",
    "    return \"Hello {}. Thank you for accepting the offer for our {} position at our partner {} location in {}\".format(name, position, city, country)"
   ]
  },
  {
   "cell_type": "code",
   "execution_count": 3,
   "id": "45e5c4f1",
   "metadata": {},
   "outputs": [
    {
     "data": {
      "text/plain": [
       "'Hello Rohan. Thank you for accepting the offer for our Automation_Intern position at our partner Berlin location in Germany'"
      ]
     },
     "execution_count": 3,
     "metadata": {},
     "output_type": "execute_result"
    }
   ],
   "source": [
    "Welcome_email('Rohan', 'Automation_Intern','Berlin','Germany')"
   ]
  },
  {
   "cell_type": "markdown",
   "id": "248e375a",
   "metadata": {},
   "source": [
    "# List Iterables vs Iterators"
   ]
  },
  {
   "cell_type": "code",
   "execution_count": 6,
   "id": "38a35e63",
   "metadata": {},
   "outputs": [
    {
     "name": "stdout",
     "output_type": "stream",
     "text": [
      "1\n",
      "2\n",
      "3\n",
      "4\n",
      "5\n",
      "6\n",
      "7\n",
      "8\n"
     ]
    }
   ],
   "source": [
    "#Iterating through list\n",
    "\n",
    "lst = [1,2,3,4,5,6,7,8]\n",
    "\n",
    "for i in lst:\n",
    "    print(i)"
   ]
  },
  {
   "cell_type": "code",
   "execution_count": 14,
   "id": "77dce54e",
   "metadata": {},
   "outputs": [],
   "source": [
    "# convert list into iterator\n",
    "\n",
    "lst1 = iter(lst)"
   ]
  },
  {
   "cell_type": "code",
   "execution_count": 15,
   "id": "5417b8f9",
   "metadata": {},
   "outputs": [
    {
     "data": {
      "text/plain": [
       "<list_iterator at 0x19865b5aac0>"
      ]
     },
     "execution_count": 15,
     "metadata": {},
     "output_type": "execute_result"
    }
   ],
   "source": [
    "lst1"
   ]
  },
  {
   "cell_type": "code",
   "execution_count": 18,
   "id": "b7c9fa7d",
   "metadata": {},
   "outputs": [
    {
     "data": {
      "text/plain": [
       "3"
      ]
     },
     "execution_count": 18,
     "metadata": {},
     "output_type": "execute_result"
    }
   ],
   "source": [
    "next(lst1)"
   ]
  },
  {
   "cell_type": "code",
   "execution_count": 19,
   "id": "976efb67",
   "metadata": {},
   "outputs": [
    {
     "name": "stdout",
     "output_type": "stream",
     "text": [
      "4\n",
      "5\n",
      "6\n",
      "7\n",
      "8\n"
     ]
    }
   ],
   "source": [
    "for i in (lst1):\n",
    "    print(i)"
   ]
  },
  {
   "cell_type": "code",
   "execution_count": null,
   "id": "03ecf4e8",
   "metadata": {},
   "outputs": [],
   "source": []
  }
 ],
 "metadata": {
  "kernelspec": {
   "display_name": "Python 3 (ipykernel)",
   "language": "python",
   "name": "python3"
  },
  "language_info": {
   "codemirror_mode": {
    "name": "ipython",
    "version": 3
   },
   "file_extension": ".py",
   "mimetype": "text/x-python",
   "name": "python",
   "nbconvert_exporter": "python",
   "pygments_lexer": "ipython3",
   "version": "3.9.12"
  }
 },
 "nbformat": 4,
 "nbformat_minor": 5
}
