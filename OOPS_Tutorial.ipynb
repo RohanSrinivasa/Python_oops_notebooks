{
 "cells": [
  {
   "cell_type": "markdown",
   "id": "4b9c1475",
   "metadata": {},
   "source": [
    "# OOPS Tutorial"
   ]
  },
  {
   "cell_type": "code",
   "execution_count": 2,
   "id": "333453ef",
   "metadata": {},
   "outputs": [],
   "source": [
    "class car:\n",
    "    pass"
   ]
  },
  {
   "cell_type": "code",
   "execution_count": 5,
   "id": "7b114348",
   "metadata": {},
   "outputs": [],
   "source": [
    "car1 = car()"
   ]
  },
  {
   "cell_type": "code",
   "execution_count": 6,
   "id": "57f89058",
   "metadata": {},
   "outputs": [
    {
     "name": "stdout",
     "output_type": "stream",
     "text": [
      "<__main__.car object at 0x0000022445C109A0>\n"
     ]
    }
   ],
   "source": [
    "print(car1)"
   ]
  },
  {
   "cell_type": "code",
   "execution_count": 7,
   "id": "0a4bf51f",
   "metadata": {},
   "outputs": [],
   "source": [
    "car1.windows = 5\n",
    "car1.door = 4"
   ]
  },
  {
   "cell_type": "code",
   "execution_count": 8,
   "id": "b13783a5",
   "metadata": {},
   "outputs": [
    {
     "name": "stdout",
     "output_type": "stream",
     "text": [
      "5\n"
     ]
    }
   ],
   "source": [
    "print(car1.windows)"
   ]
  },
  {
   "cell_type": "code",
   "execution_count": 11,
   "id": "374666ce",
   "metadata": {},
   "outputs": [],
   "source": [
    "car2 = car()"
   ]
  },
  {
   "cell_type": "code",
   "execution_count": 12,
   "id": "147684ad",
   "metadata": {},
   "outputs": [
    {
     "data": {
      "text/plain": [
       "<__main__.car at 0x22445c107c0>"
      ]
     },
     "execution_count": 12,
     "metadata": {},
     "output_type": "execute_result"
    }
   ],
   "source": [
    "car2"
   ]
  },
  {
   "cell_type": "code",
   "execution_count": 13,
   "id": "94077ddc",
   "metadata": {},
   "outputs": [],
   "source": [
    "car2.windows = 5\n",
    "car2.door = 4"
   ]
  },
  {
   "cell_type": "code",
   "execution_count": 14,
   "id": "26c1c2a6",
   "metadata": {},
   "outputs": [
    {
     "name": "stdout",
     "output_type": "stream",
     "text": [
      "5\n"
     ]
    }
   ],
   "source": [
    "print(car2.windows)"
   ]
  },
  {
   "cell_type": "code",
   "execution_count": 15,
   "id": "44c7618a",
   "metadata": {},
   "outputs": [],
   "source": [
    "car2.enginetype = \"petrol\""
   ]
  },
  {
   "cell_type": "code",
   "execution_count": 16,
   "id": "05e4e068",
   "metadata": {},
   "outputs": [
    {
     "name": "stdout",
     "output_type": "stream",
     "text": [
      "petrol\n"
     ]
    }
   ],
   "source": [
    "print(car2.enginetype)"
   ]
  },
  {
   "cell_type": "code",
   "execution_count": 17,
   "id": "541e9d87",
   "metadata": {},
   "outputs": [
    {
     "data": {
      "text/plain": [
       "['__class__',\n",
       " '__delattr__',\n",
       " '__dict__',\n",
       " '__dir__',\n",
       " '__doc__',\n",
       " '__eq__',\n",
       " '__format__',\n",
       " '__ge__',\n",
       " '__getattribute__',\n",
       " '__gt__',\n",
       " '__hash__',\n",
       " '__init__',\n",
       " '__init_subclass__',\n",
       " '__le__',\n",
       " '__lt__',\n",
       " '__module__',\n",
       " '__ne__',\n",
       " '__new__',\n",
       " '__reduce__',\n",
       " '__reduce_ex__',\n",
       " '__repr__',\n",
       " '__setattr__',\n",
       " '__sizeof__',\n",
       " '__str__',\n",
       " '__subclasshook__',\n",
       " '__weakref__',\n",
       " 'door',\n",
       " 'windows']"
      ]
     },
     "execution_count": 17,
     "metadata": {},
     "output_type": "execute_result"
    }
   ],
   "source": [
    "dir(car1)"
   ]
  },
  {
   "cell_type": "code",
   "execution_count": 24,
   "id": "bc5ae71f",
   "metadata": {},
   "outputs": [],
   "source": [
    "class car:\n",
    "    def __init__(self,windows,door,enginetype):\n",
    "        self.windows = windows\n",
    "        self.doors = door\n",
    "        self.enginetype = enginetype"
   ]
  },
  {
   "cell_type": "code",
   "execution_count": 25,
   "id": "00b3aceb",
   "metadata": {},
   "outputs": [],
   "source": [
    "car_1 = car(4,2,\"petrol\")"
   ]
  },
  {
   "cell_type": "code",
   "execution_count": 26,
   "id": "b5805432",
   "metadata": {},
   "outputs": [
    {
     "data": {
      "text/plain": [
       "4"
      ]
     },
     "execution_count": 26,
     "metadata": {},
     "output_type": "execute_result"
    }
   ],
   "source": [
    "car_1.windows"
   ]
  },
  {
   "cell_type": "code",
   "execution_count": 27,
   "id": "e4e48805",
   "metadata": {},
   "outputs": [
    {
     "data": {
      "text/plain": [
       "'petrol'"
      ]
     },
     "execution_count": 27,
     "metadata": {},
     "output_type": "execute_result"
    }
   ],
   "source": [
    "car_1.enginetype"
   ]
  },
  {
   "cell_type": "code",
   "execution_count": 28,
   "id": "e4762967",
   "metadata": {},
   "outputs": [],
   "source": [
    "class car:\n",
    "    def __init__(self,windows,door,enginetype):\n",
    "        self.windows = windows\n",
    "        self.doors = door\n",
    "        self.enginetype = enginetype\n",
    "    def self_driving(self):\n",
    "        return \"This is a {} car\".format(self.enginetype)"
   ]
  },
  {
   "cell_type": "code",
   "execution_count": 29,
   "id": "b8829ca9",
   "metadata": {},
   "outputs": [],
   "source": [
    "car_2 = car(5,4,\"Hybrid\")"
   ]
  },
  {
   "cell_type": "code",
   "execution_count": 31,
   "id": "4af53d7a",
   "metadata": {},
   "outputs": [
    {
     "data": {
      "text/plain": [
       "'This is a Hybrid car'"
      ]
     },
     "execution_count": 31,
     "metadata": {},
     "output_type": "execute_result"
    }
   ],
   "source": [
    "car_2.self_driving()"
   ]
  },
  {
   "cell_type": "code",
   "execution_count": null,
   "id": "6a9631c4",
   "metadata": {},
   "outputs": [],
   "source": []
  }
 ],
 "metadata": {
  "kernelspec": {
   "display_name": "Python 3 (ipykernel)",
   "language": "python",
   "name": "python3"
  },
  "language_info": {
   "codemirror_mode": {
    "name": "ipython",
    "version": 3
   },
   "file_extension": ".py",
   "mimetype": "text/x-python",
   "name": "python",
   "nbconvert_exporter": "python",
   "pygments_lexer": "ipython3",
   "version": "3.9.12"
  }
 },
 "nbformat": 4,
 "nbformat_minor": 5
}
