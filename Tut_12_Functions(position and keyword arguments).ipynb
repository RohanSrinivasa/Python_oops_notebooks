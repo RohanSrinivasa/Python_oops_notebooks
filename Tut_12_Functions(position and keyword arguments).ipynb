{
 "cells": [
  {
   "cell_type": "markdown",
   "id": "b1693880",
   "metadata": {},
   "source": [
    "# Functions in python"
   ]
  },
  {
   "cell_type": "code",
   "execution_count": 1,
   "id": "f78da5ee",
   "metadata": {},
   "outputs": [
    {
     "name": "stdout",
     "output_type": "stream",
     "text": [
      "The number is even\n"
     ]
    }
   ],
   "source": [
    "num = 24\n",
    "\n",
    "if num%2== 0:\n",
    "    print(\"The number is even\")\n",
    "else:\n",
    "    print(\"The number is odd\")"
   ]
  },
  {
   "cell_type": "code",
   "execution_count": 3,
   "id": "7157206e",
   "metadata": {},
   "outputs": [],
   "source": [
    "# Creating a function\n",
    "def odd_even (num):\n",
    "        if num%2== 0:\n",
    "            print(\"The number is even\")\n",
    "        else:\n",
    "            print(\"The number is odd\")"
   ]
  },
  {
   "cell_type": "code",
   "execution_count": 4,
   "id": "8483298a",
   "metadata": {},
   "outputs": [
    {
     "name": "stdout",
     "output_type": "stream",
     "text": [
      "The number is odd\n"
     ]
    }
   ],
   "source": [
    "odd_even(23)"
   ]
  },
  {
   "cell_type": "code",
   "execution_count": 5,
   "id": "b919184f",
   "metadata": {},
   "outputs": [
    {
     "name": "stdout",
     "output_type": "stream",
     "text": [
      "The number is odd\n"
     ]
    }
   ],
   "source": [
    "odd_even(44.5)"
   ]
  },
  {
   "cell_type": "code",
   "execution_count": 6,
   "id": "be251581",
   "metadata": {},
   "outputs": [
    {
     "name": "stdout",
     "output_type": "stream",
     "text": [
      "The number is even\n"
     ]
    }
   ],
   "source": [
    "odd_even(100)"
   ]
  },
  {
   "cell_type": "code",
   "execution_count": 10,
   "id": "6ee863dd",
   "metadata": {},
   "outputs": [],
   "source": [
    "# Difference between print and return\n",
    "\n",
    "def hello_world():\n",
    "    print (\"Hello World\")"
   ]
  },
  {
   "cell_type": "code",
   "execution_count": 13,
   "id": "1fdb3307",
   "metadata": {},
   "outputs": [
    {
     "name": "stdout",
     "output_type": "stream",
     "text": [
      "Hello World\n"
     ]
    }
   ],
   "source": [
    "var = hello_world()"
   ]
  },
  {
   "cell_type": "code",
   "execution_count": 14,
   "id": "515a7aba",
   "metadata": {},
   "outputs": [
    {
     "name": "stdout",
     "output_type": "stream",
     "text": [
      "None\n"
     ]
    }
   ],
   "source": [
    "print(var)"
   ]
  },
  {
   "cell_type": "code",
   "execution_count": 19,
   "id": "a28933a7",
   "metadata": {},
   "outputs": [],
   "source": [
    "def hello_world():\n",
    "    return \"Hello World\""
   ]
  },
  {
   "cell_type": "code",
   "execution_count": 20,
   "id": "41ad396d",
   "metadata": {},
   "outputs": [],
   "source": [
    "var = hello_world()"
   ]
  },
  {
   "cell_type": "code",
   "execution_count": 21,
   "id": "640fe040",
   "metadata": {},
   "outputs": [
    {
     "name": "stdout",
     "output_type": "stream",
     "text": [
      "Hello World\n"
     ]
    }
   ],
   "source": [
    "print(var)"
   ]
  },
  {
   "cell_type": "code",
   "execution_count": 22,
   "id": "2b751269",
   "metadata": {},
   "outputs": [],
   "source": [
    "# defining afunction to add two  numbers\n",
    "\n",
    "def add_number (num1,num2):\n",
    "    return num1 + num2"
   ]
  },
  {
   "cell_type": "code",
   "execution_count": 24,
   "id": "46ead5c3",
   "metadata": {},
   "outputs": [
    {
     "data": {
      "text/plain": [
       "16"
      ]
     },
     "execution_count": 24,
     "metadata": {},
     "output_type": "execute_result"
    }
   ],
   "source": [
    "add_number(25,-9)"
   ]
  },
  {
   "cell_type": "code",
   "execution_count": 25,
   "id": "43139e7d",
   "metadata": {},
   "outputs": [
    {
     "data": {
      "text/plain": [
       "-34"
      ]
     },
     "execution_count": 25,
     "metadata": {},
     "output_type": "execute_result"
    }
   ],
   "source": [
    "add_number(-25,-9)"
   ]
  },
  {
   "cell_type": "code",
   "execution_count": 32,
   "id": "71513f19",
   "metadata": {},
   "outputs": [],
   "source": [
    "# position and keyword arguments\n",
    "\n",
    "def hello (name,age = 28):\n",
    "    return (\"My name is {} and age is {}\".format(name,age))"
   ]
  },
  {
   "cell_type": "code",
   "execution_count": 35,
   "id": "60e7e5ec",
   "metadata": {},
   "outputs": [
    {
     "data": {
      "text/plain": [
       "'My name is Rohan and age is 28'"
      ]
     },
     "execution_count": 35,
     "metadata": {},
     "output_type": "execute_result"
    }
   ],
   "source": [
    "hello('Rohan')"
   ]
  },
  {
   "cell_type": "code",
   "execution_count": 36,
   "id": "a24f2af0",
   "metadata": {},
   "outputs": [],
   "source": [
    "def hello (name, age):\n",
    "    return (\"My name is {} and age is {}\".format(name,age))"
   ]
  },
  {
   "cell_type": "code",
   "execution_count": 37,
   "id": "b0266745",
   "metadata": {},
   "outputs": [
    {
     "data": {
      "text/plain": [
       "'My name is Rohan and age is 14'"
      ]
     },
     "execution_count": 37,
     "metadata": {},
     "output_type": "execute_result"
    }
   ],
   "source": [
    "hello('Rohan',14)"
   ]
  },
  {
   "cell_type": "code",
   "execution_count": 38,
   "id": "51db64d3",
   "metadata": {},
   "outputs": [],
   "source": [
    "def hello (*args, **kwargs):\n",
    "    print(args)\n",
    "    print(kwargs)"
   ]
  },
  {
   "cell_type": "code",
   "execution_count": 41,
   "id": "f36ad0dc",
   "metadata": {},
   "outputs": [
    {
     "name": "stdout",
     "output_type": "stream",
     "text": [
      "('rohan', 'jays')\n",
      "{'age': 45, 'work': 'manager'}\n"
     ]
    }
   ],
   "source": [
    "hello (\"rohan\",\"jays\",age = 45, work = 'manager')"
   ]
  },
  {
   "cell_type": "code",
   "execution_count": 42,
   "id": "5fd5ab2f",
   "metadata": {},
   "outputs": [],
   "source": [
    "lst = ['rohan', 'jays']\n",
    "dict_args = {'age': 45, 'work': 'manager'}"
   ]
  },
  {
   "cell_type": "code",
   "execution_count": 43,
   "id": "1e70bda3",
   "metadata": {},
   "outputs": [
    {
     "name": "stdout",
     "output_type": "stream",
     "text": [
      "(['rohan', 'jays'], {'age': 45, 'work': 'manager'})\n",
      "{}\n"
     ]
    }
   ],
   "source": [
    "hello (lst, dict_args)"
   ]
  },
  {
   "cell_type": "code",
   "execution_count": 44,
   "id": "ce1ae895",
   "metadata": {},
   "outputs": [
    {
     "name": "stdout",
     "output_type": "stream",
     "text": [
      "(['rohan', 'jays'],)\n",
      "{'age': 45, 'work': 'manager'}\n"
     ]
    }
   ],
   "source": [
    "hello (lst, **dict_args)"
   ]
  },
  {
   "cell_type": "code",
   "execution_count": 45,
   "id": "d47ac3c7",
   "metadata": {},
   "outputs": [],
   "source": [
    "lst = [1,2,3,4,5,6,7,8,9]"
   ]
  },
  {
   "cell_type": "code",
   "execution_count": 46,
   "id": "623d1d71",
   "metadata": {},
   "outputs": [],
   "source": [
    "# defining a function to create odd_sum and even_sum\n",
    "\n",
    "def odd_even_sum (lst):\n",
    "    even_sum = 0\n",
    "    odd_sum = 0\n",
    "    \n",
    "    for i in lst:\n",
    "        \n",
    "        if i%2 == 0:\n",
    "            even_sum += i\n",
    "        else:\n",
    "            odd_sum += i\n",
    "    \n",
    "    return even_sum, odd_sum"
   ]
  },
  {
   "cell_type": "code",
   "execution_count": 47,
   "id": "50e33a60",
   "metadata": {},
   "outputs": [
    {
     "data": {
      "text/plain": [
       "(20, 25)"
      ]
     },
     "execution_count": 47,
     "metadata": {},
     "output_type": "execute_result"
    }
   ],
   "source": [
    "odd_even_sum(lst)"
   ]
  },
  {
   "cell_type": "code",
   "execution_count": null,
   "id": "645e199c",
   "metadata": {},
   "outputs": [],
   "source": []
  }
 ],
 "metadata": {
  "kernelspec": {
   "display_name": "Python 3 (ipykernel)",
   "language": "python",
   "name": "python3"
  },
  "language_info": {
   "codemirror_mode": {
    "name": "ipython",
    "version": 3
   },
   "file_extension": ".py",
   "mimetype": "text/x-python",
   "name": "python",
   "nbconvert_exporter": "python",
   "pygments_lexer": "ipython3",
   "version": "3.9.12"
  }
 },
 "nbformat": 4,
 "nbformat_minor": 5
}
