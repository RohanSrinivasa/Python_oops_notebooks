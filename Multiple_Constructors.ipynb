{
 "cells": [
  {
   "cell_type": "markdown",
   "id": "911194fa",
   "metadata": {},
   "source": [
    "# Multiple_Constructors\n"
   ]
  },
  {
   "cell_type": "code",
   "execution_count": 4,
   "id": "8921a4b7",
   "metadata": {},
   "outputs": [],
   "source": [
    "class Animal:\n",
    "    def __init__(self,name,species):\n",
    "        self.name = name\n",
    "        self.species = species\n",
    "        \n",
    "    def __init__(self,name,species,age):\n",
    "        self.name = name\n",
    "        self.species = species\n",
    "        self.age = age\n",
    "        \n",
    "    def make_sound(self,sound):\n",
    "        return(\"The animal is {} and says {}\".format(self.name,sound))"
   ]
  },
  {
   "cell_type": "code",
   "execution_count": 6,
   "id": "e9d1a4a0",
   "metadata": {},
   "outputs": [],
   "source": [
    "dog = Animal('dog','mamal',12)"
   ]
  },
  {
   "cell_type": "code",
   "execution_count": 7,
   "id": "d0a39ba5",
   "metadata": {},
   "outputs": [
    {
     "data": {
      "text/plain": [
       "'dog'"
      ]
     },
     "execution_count": 7,
     "metadata": {},
     "output_type": "execute_result"
    }
   ],
   "source": [
    "dog.name\n"
   ]
  },
  {
   "cell_type": "code",
   "execution_count": 11,
   "id": "96f930e1",
   "metadata": {},
   "outputs": [
    {
     "data": {
      "text/plain": [
       "'The animal is dog and says woof'"
      ]
     },
     "execution_count": 11,
     "metadata": {},
     "output_type": "execute_result"
    }
   ],
   "source": [
    "dog.make_sound('woof')"
   ]
  },
  {
   "cell_type": "code",
   "execution_count": 25,
   "id": "2c1a5877",
   "metadata": {},
   "outputs": [],
   "source": [
    "# Fixing the issue of overridden\n",
    "\n",
    "class Animal:\n",
    "    def __init__(self,*args):\n",
    "        if len(args) == 1:\n",
    "            self.name = args[0]\n",
    "            \n",
    "        elif len(args) == 2:\n",
    "            self.name = args[0]\n",
    "            self.species = args[1]\n",
    "      \n",
    "        elif len(args) == 3:\n",
    "            self.name = args[0]\n",
    "            self.species = args[1]\n",
    "            self.age = args[2]\n",
    "        \n",
    "    def make_sound(self,sound):\n",
    "        return(\"The animal is {} and says {}\".format(self.name,sound))"
   ]
  },
  {
   "cell_type": "code",
   "execution_count": 26,
   "id": "7c42ee3e",
   "metadata": {},
   "outputs": [],
   "source": [
    "jay = Animal('dog')"
   ]
  },
  {
   "cell_type": "code",
   "execution_count": 27,
   "id": "35219796",
   "metadata": {},
   "outputs": [
    {
     "data": {
      "text/plain": [
       "'dog'"
      ]
     },
     "execution_count": 27,
     "metadata": {},
     "output_type": "execute_result"
    }
   ],
   "source": [
    "jay.name"
   ]
  },
  {
   "cell_type": "code",
   "execution_count": 28,
   "id": "f54cea42",
   "metadata": {},
   "outputs": [],
   "source": [
    "dogs = Animal('dog','mamal',12)"
   ]
  },
  {
   "cell_type": "code",
   "execution_count": 29,
   "id": "e8058656",
   "metadata": {},
   "outputs": [
    {
     "data": {
      "text/plain": [
       "'dog'"
      ]
     },
     "execution_count": 29,
     "metadata": {},
     "output_type": "execute_result"
    }
   ],
   "source": [
    "dogs.name"
   ]
  },
  {
   "cell_type": "code",
   "execution_count": 30,
   "id": "b0682637",
   "metadata": {},
   "outputs": [
    {
     "data": {
      "text/plain": [
       "'The animal is dog and says woof woof'"
      ]
     },
     "execution_count": 30,
     "metadata": {},
     "output_type": "execute_result"
    }
   ],
   "source": [
    "jay.make_sound('woof woof')"
   ]
  },
  {
   "cell_type": "code",
   "execution_count": null,
   "id": "6ff67abc",
   "metadata": {},
   "outputs": [],
   "source": []
  }
 ],
 "metadata": {
  "kernelspec": {
   "display_name": "Python 3 (ipykernel)",
   "language": "python",
   "name": "python3"
  },
  "language_info": {
   "codemirror_mode": {
    "name": "ipython",
    "version": 3
   },
   "file_extension": ".py",
   "mimetype": "text/x-python",
   "name": "python",
   "nbconvert_exporter": "python",
   "pygments_lexer": "ipython3",
   "version": "3.9.12"
  }
 },
 "nbformat": 4,
 "nbformat_minor": 5
}
