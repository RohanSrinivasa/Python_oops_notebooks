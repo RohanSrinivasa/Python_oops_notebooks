{
 "cells": [
  {
   "cell_type": "code",
   "execution_count": 1,
   "id": "ae320266",
   "metadata": {},
   "outputs": [],
   "source": [
    "# Class Methods And Class Variables"
   ]
  },
  {
   "cell_type": "code",
   "execution_count": 3,
   "id": "74761e40",
   "metadata": {},
   "outputs": [],
   "source": [
    "class Car:\n",
    "    base_price = 100000 ##class variable\n",
    "    \n",
    "    def __init__(self,doors,windows,power):\n",
    "        self.doors = doors\n",
    "        self.windows = windows\n",
    "        self.power = power\n",
    "    def What_is_base_price(self):\n",
    "        print(\"The base price of the car is {}\".format(self.base_price))"
   ]
  },
  {
   "cell_type": "code",
   "execution_count": 4,
   "id": "1105dc5e",
   "metadata": {},
   "outputs": [],
   "source": [
    "car1 = Car(4,5,2500)"
   ]
  },
  {
   "cell_type": "code",
   "execution_count": 5,
   "id": "872d13ed",
   "metadata": {},
   "outputs": [
    {
     "data": {
      "text/plain": [
       "2500"
      ]
     },
     "execution_count": 5,
     "metadata": {},
     "output_type": "execute_result"
    }
   ],
   "source": [
    "car1.power"
   ]
  },
  {
   "cell_type": "code",
   "execution_count": 7,
   "id": "3d7c683e",
   "metadata": {},
   "outputs": [
    {
     "name": "stdout",
     "output_type": "stream",
     "text": [
      "The base price of the car is 100000\n"
     ]
    }
   ],
   "source": [
    "car1.What_is_base_price()"
   ]
  },
  {
   "cell_type": "code",
   "execution_count": 8,
   "id": "650970b9",
   "metadata": {},
   "outputs": [
    {
     "data": {
      "text/plain": [
       "100000"
      ]
     },
     "execution_count": 8,
     "metadata": {},
     "output_type": "execute_result"
    }
   ],
   "source": [
    "Car.base_price"
   ]
  },
  {
   "cell_type": "code",
   "execution_count": 10,
   "id": "267f2a98",
   "metadata": {},
   "outputs": [],
   "source": [
    "# Class Methods And Class Variables\n",
    "\n",
    "class Car:\n",
    "    base_price = 100000 ##class variable\n",
    "    \n",
    "    def __init__(self,doors,windows,power):\n",
    "        self.doors = doors\n",
    "        self.windows = windows\n",
    "        self.power = power\n",
    "    def What_is_base_price(self):\n",
    "        print(\"The base price of the car is {}\".format(self.base_price))\n",
    "    @classmethod\n",
    "    def revise_base_price(cls,inflation_percentage):\n",
    "        cls.base_price = cls.base_price + cls.base_price * inflation_percentage"
   ]
  },
  {
   "cell_type": "code",
   "execution_count": 12,
   "id": "0431cf7f",
   "metadata": {},
   "outputs": [],
   "source": [
    "Car.revise_base_price(10)"
   ]
  },
  {
   "cell_type": "code",
   "execution_count": 13,
   "id": "e9c42f77",
   "metadata": {},
   "outputs": [
    {
     "data": {
      "text/plain": [
       "1100000"
      ]
     },
     "execution_count": 13,
     "metadata": {},
     "output_type": "execute_result"
    }
   ],
   "source": [
    "Car.base_price"
   ]
  },
  {
   "cell_type": "code",
   "execution_count": 17,
   "id": "eab4458b",
   "metadata": {},
   "outputs": [],
   "source": [
    "car2 = Car(4,5,2500)"
   ]
  },
  {
   "cell_type": "code",
   "execution_count": 18,
   "id": "0ed8df36",
   "metadata": {},
   "outputs": [
    {
     "data": {
      "text/plain": [
       "1100000"
      ]
     },
     "execution_count": 18,
     "metadata": {},
     "output_type": "execute_result"
    }
   ],
   "source": [
    "car2.base_price"
   ]
  },
  {
   "cell_type": "code",
   "execution_count": 16,
   "id": "05edc34e",
   "metadata": {},
   "outputs": [
    {
     "name": "stdout",
     "output_type": "stream",
     "text": [
      "The base price of the car is 1100000\n"
     ]
    }
   ],
   "source": [
    "car2.What_is_base_price()"
   ]
  },
  {
   "cell_type": "code",
   "execution_count": 19,
   "id": "7f12b128",
   "metadata": {},
   "outputs": [],
   "source": [
    "car2.revise_base_price(10)"
   ]
  },
  {
   "cell_type": "code",
   "execution_count": null,
   "id": "6f8cd3e4",
   "metadata": {},
   "outputs": [],
   "source": []
  }
 ],
 "metadata": {
  "kernelspec": {
   "display_name": "Python 3 (ipykernel)",
   "language": "python",
   "name": "python3"
  },
  "language_info": {
   "codemirror_mode": {
    "name": "ipython",
    "version": 3
   },
   "file_extension": ".py",
   "mimetype": "text/x-python",
   "name": "python",
   "nbconvert_exporter": "python",
   "pygments_lexer": "ipython3",
   "version": "3.9.12"
  }
 },
 "nbformat": 4,
 "nbformat_minor": 5
}
