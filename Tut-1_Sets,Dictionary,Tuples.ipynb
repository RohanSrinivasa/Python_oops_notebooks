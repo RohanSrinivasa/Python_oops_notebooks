{
 "cells": [
  {
   "cell_type": "markdown",
   "id": "494f6733",
   "metadata": {},
   "source": [
    "# SETS"
   ]
  },
  {
   "cell_type": "code",
   "execution_count": 1,
   "id": "0215514b",
   "metadata": {},
   "outputs": [
    {
     "name": "stdout",
     "output_type": "stream",
     "text": [
      "set()\n"
     ]
    },
    {
     "data": {
      "text/plain": [
       "set"
      ]
     },
     "execution_count": 1,
     "metadata": {},
     "output_type": "execute_result"
    }
   ],
   "source": [
    "set_var = set()\n",
    "print(set_var)\n",
    "type(set_var)"
   ]
  },
  {
   "cell_type": "code",
   "execution_count": 2,
   "id": "eb09ab77",
   "metadata": {},
   "outputs": [],
   "source": [
    "set_var = {1,1,12,3,5,6,4,4,4,7}"
   ]
  },
  {
   "cell_type": "code",
   "execution_count": 3,
   "id": "bbe14ea8",
   "metadata": {},
   "outputs": [
    {
     "name": "stdout",
     "output_type": "stream",
     "text": [
      "{1, 3, 4, 5, 6, 7, 12}\n"
     ]
    }
   ],
   "source": [
    "print(set_var)"
   ]
  },
  {
   "cell_type": "code",
   "execution_count": 4,
   "id": "c271d682",
   "metadata": {},
   "outputs": [],
   "source": [
    "# Inbuilt function\n",
    "set_var.add(\"hello\")"
   ]
  },
  {
   "cell_type": "code",
   "execution_count": 5,
   "id": "734f3f7a",
   "metadata": {},
   "outputs": [
    {
     "data": {
      "text/plain": [
       "{1, 12, 3, 4, 5, 6, 7, 'hello'}"
      ]
     },
     "execution_count": 5,
     "metadata": {},
     "output_type": "execute_result"
    }
   ],
   "source": [
    "set_var"
   ]
  },
  {
   "cell_type": "code",
   "execution_count": 21,
   "id": "d667dcf4",
   "metadata": {},
   "outputs": [],
   "source": [
    "set_1 = {\"eve\",\"john\",\"miller\",\"ace\"}\n",
    "set_2 ={\"eve\",\"john\",\"miller\",\"keppler\"}"
   ]
  },
  {
   "cell_type": "code",
   "execution_count": 22,
   "id": "87e25bd2",
   "metadata": {},
   "outputs": [
    {
     "data": {
      "text/plain": [
       "{'keppler'}"
      ]
     },
     "execution_count": 22,
     "metadata": {},
     "output_type": "execute_result"
    }
   ],
   "source": [
    "set_2.difference(set_1)"
   ]
  },
  {
   "cell_type": "code",
   "execution_count": 23,
   "id": "632314f4",
   "metadata": {},
   "outputs": [
    {
     "data": {
      "text/plain": [
       "{'eve', 'john', 'miller'}"
      ]
     },
     "execution_count": 23,
     "metadata": {},
     "output_type": "execute_result"
    }
   ],
   "source": [
    "set_2.intersection(set_1)"
   ]
  },
  {
   "cell_type": "code",
   "execution_count": 25,
   "id": "ef88c092",
   "metadata": {},
   "outputs": [
    {
     "ename": "KeyError",
     "evalue": "'ace'",
     "output_type": "error",
     "traceback": [
      "\u001b[1;31m---------------------------------------------------------------------------\u001b[0m",
      "\u001b[1;31mKeyError\u001b[0m                                  Traceback (most recent call last)",
      "Input \u001b[1;32mIn [25]\u001b[0m, in \u001b[0;36m<cell line: 1>\u001b[1;34m()\u001b[0m\n\u001b[1;32m----> 1\u001b[0m \u001b[43mset_1\u001b[49m\u001b[38;5;241;43m.\u001b[39;49m\u001b[43mremove\u001b[49m\u001b[43m(\u001b[49m\u001b[38;5;124;43m\"\u001b[39;49m\u001b[38;5;124;43mace\u001b[39;49m\u001b[38;5;124;43m\"\u001b[39;49m\u001b[43m)\u001b[49m\n",
      "\u001b[1;31mKeyError\u001b[0m: 'ace'"
     ]
    }
   ],
   "source": [
    "set_1.remove(\"ace\")"
   ]
  },
  {
   "cell_type": "code",
   "execution_count": 26,
   "id": "d5714812",
   "metadata": {},
   "outputs": [
    {
     "data": {
      "text/plain": [
       "{'eve', 'john', 'miller'}"
      ]
     },
     "execution_count": 26,
     "metadata": {},
     "output_type": "execute_result"
    }
   ],
   "source": [
    "set_1"
   ]
  },
  {
   "cell_type": "markdown",
   "id": "e0a5651d",
   "metadata": {},
   "source": [
    "# Dictionary"
   ]
  },
  {
   "cell_type": "code",
   "execution_count": 27,
   "id": "84d973d9",
   "metadata": {},
   "outputs": [
    {
     "data": {
      "text/plain": [
       "dict"
      ]
     },
     "execution_count": 27,
     "metadata": {},
     "output_type": "execute_result"
    }
   ],
   "source": [
    "dic = {}\n",
    "type(dic)"
   ]
  },
  {
   "cell_type": "code",
   "execution_count": 28,
   "id": "f397714d",
   "metadata": {},
   "outputs": [],
   "source": [
    "my_dict = {\"car1\":\"Audi\", \"Car2\":\"Merc\", \"car3\":\"lambo\"}"
   ]
  },
  {
   "cell_type": "code",
   "execution_count": 29,
   "id": "3ff639a4",
   "metadata": {},
   "outputs": [
    {
     "data": {
      "text/plain": [
       "{'car1': 'Audi', 'Car2': 'Merc', 'car3': 'lambo'}"
      ]
     },
     "execution_count": 29,
     "metadata": {},
     "output_type": "execute_result"
    }
   ],
   "source": [
    "my_dict"
   ]
  },
  {
   "cell_type": "code",
   "execution_count": 31,
   "id": "29efaa35",
   "metadata": {},
   "outputs": [
    {
     "data": {
      "text/plain": [
       "dict"
      ]
     },
     "execution_count": 31,
     "metadata": {},
     "output_type": "execute_result"
    }
   ],
   "source": [
    "type(my_dict)"
   ]
  },
  {
   "cell_type": "code",
   "execution_count": 33,
   "id": "81526c6b",
   "metadata": {},
   "outputs": [
    {
     "data": {
      "text/plain": [
       "'Audi'"
      ]
     },
     "execution_count": 33,
     "metadata": {},
     "output_type": "execute_result"
    }
   ],
   "source": [
    "# Accessing the value\n",
    "my_dict[\"car1\"]"
   ]
  },
  {
   "cell_type": "code",
   "execution_count": 34,
   "id": "15cce716",
   "metadata": {},
   "outputs": [
    {
     "name": "stdout",
     "output_type": "stream",
     "text": [
      "car1\n",
      "Car2\n",
      "car3\n"
     ]
    }
   ],
   "source": [
    "# Loop through the keys\n",
    "for a in my_dict:\n",
    "    print(a)"
   ]
  },
  {
   "cell_type": "code",
   "execution_count": 36,
   "id": "a2f9d869",
   "metadata": {},
   "outputs": [
    {
     "name": "stdout",
     "output_type": "stream",
     "text": [
      "Audi\n",
      "Merc\n",
      "lambo\n"
     ]
    }
   ],
   "source": [
    "#loop through the value\n",
    "for a in my_dict.values():\n",
    "    print(a)"
   ]
  },
  {
   "cell_type": "code",
   "execution_count": 37,
   "id": "d7dab52d",
   "metadata": {},
   "outputs": [
    {
     "name": "stdout",
     "output_type": "stream",
     "text": [
      "('car1', 'Audi')\n",
      "('Car2', 'Merc')\n",
      "('car3', 'lambo')\n"
     ]
    }
   ],
   "source": [
    "#Loop through key value pairs\n",
    "for a in my_dict.items():\n",
    "    print(a)"
   ]
  },
  {
   "cell_type": "code",
   "execution_count": 39,
   "id": "d305ba89",
   "metadata": {},
   "outputs": [],
   "source": [
    "# Adding items to dictionary\n",
    "\n",
    "my_dict[\"car4\"] = \"Audi2.0\""
   ]
  },
  {
   "cell_type": "code",
   "execution_count": 40,
   "id": "92928bb6",
   "metadata": {},
   "outputs": [
    {
     "data": {
      "text/plain": [
       "{'car1': 'Audi', 'Car2': 'Merc', 'car3': 'lambo', 'car4': 'Audi2.0'}"
      ]
     },
     "execution_count": 40,
     "metadata": {},
     "output_type": "execute_result"
    }
   ],
   "source": [
    "my_dict"
   ]
  },
  {
   "cell_type": "code",
   "execution_count": 41,
   "id": "9eec862c",
   "metadata": {},
   "outputs": [],
   "source": [
    "my_dict[\"car1\"] = \"JCB\""
   ]
  },
  {
   "cell_type": "code",
   "execution_count": 42,
   "id": "ef036220",
   "metadata": {},
   "outputs": [
    {
     "data": {
      "text/plain": [
       "{'car1': 'JCB', 'Car2': 'Merc', 'car3': 'lambo', 'car4': 'Audi2.0'}"
      ]
     },
     "execution_count": 42,
     "metadata": {},
     "output_type": "execute_result"
    }
   ],
   "source": [
    "my_dict"
   ]
  },
  {
   "cell_type": "code",
   "execution_count": null,
   "id": "d45aabd8",
   "metadata": {},
   "outputs": [],
   "source": []
  },
  {
   "cell_type": "markdown",
   "id": "7f929aa4",
   "metadata": {},
   "source": [
    "# Nested Dictionary"
   ]
  },
  {
   "cell_type": "code",
   "execution_count": 43,
   "id": "0e2803a5",
   "metadata": {},
   "outputs": [],
   "source": [
    "car1_model = {\"merc\":1960}\n",
    "car2_model = {\"Audi\":1970}\n",
    "car3_model = {\"Maruti\":1980}"
   ]
  },
  {
   "cell_type": "code",
   "execution_count": 44,
   "id": "efaa9dcd",
   "metadata": {},
   "outputs": [],
   "source": [
    "car_type = {\"car_1\":car1_model, \"car_2\":car2_model, \"car_3\":car3_model}"
   ]
  },
  {
   "cell_type": "code",
   "execution_count": 45,
   "id": "05e409c5",
   "metadata": {},
   "outputs": [
    {
     "name": "stdout",
     "output_type": "stream",
     "text": [
      "{'car_1': {'merc': 1960}, 'car_2': {'Audi': 1970}, 'car_3': {'Maruti': 1980}}\n"
     ]
    }
   ],
   "source": [
    "print(car_type)"
   ]
  },
  {
   "cell_type": "code",
   "execution_count": 48,
   "id": "90af04bd",
   "metadata": {},
   "outputs": [
    {
     "name": "stdout",
     "output_type": "stream",
     "text": [
      "{'merc': 1960}\n"
     ]
    }
   ],
   "source": [
    "# Accessing the items in dictionary\n",
    "\n",
    "print(car_type[\"car_1\"])"
   ]
  },
  {
   "cell_type": "code",
   "execution_count": 49,
   "id": "18e4dff1",
   "metadata": {},
   "outputs": [
    {
     "name": "stdout",
     "output_type": "stream",
     "text": [
      "1960\n"
     ]
    }
   ],
   "source": [
    "print(car_type[\"car_1\"]['merc'])"
   ]
  },
  {
   "cell_type": "markdown",
   "id": "3f381005",
   "metadata": {},
   "source": [
    "# Tuples"
   ]
  },
  {
   "cell_type": "code",
   "execution_count": 50,
   "id": "47045461",
   "metadata": {},
   "outputs": [],
   "source": [
    "my_tuple = tuple()"
   ]
  },
  {
   "cell_type": "code",
   "execution_count": 51,
   "id": "4824fcaf",
   "metadata": {},
   "outputs": [
    {
     "data": {
      "text/plain": [
       "tuple"
      ]
     },
     "execution_count": 51,
     "metadata": {},
     "output_type": "execute_result"
    }
   ],
   "source": [
    "type(my_tuple)"
   ]
  },
  {
   "cell_type": "code",
   "execution_count": 52,
   "id": "d747f56c",
   "metadata": {},
   "outputs": [],
   "source": [
    "my_tuple = ()"
   ]
  },
  {
   "cell_type": "code",
   "execution_count": 53,
   "id": "f951b6a2",
   "metadata": {},
   "outputs": [
    {
     "data": {
      "text/plain": [
       "tuple"
      ]
     },
     "execution_count": 53,
     "metadata": {},
     "output_type": "execute_result"
    }
   ],
   "source": [
    "type(my_tuple)"
   ]
  },
  {
   "cell_type": "code",
   "execution_count": 54,
   "id": "33469e87",
   "metadata": {},
   "outputs": [],
   "source": [
    "my_tuple = (\"Rohan\", \"Hello\", \"Izod\")"
   ]
  },
  {
   "cell_type": "code",
   "execution_count": 55,
   "id": "45bcf060",
   "metadata": {},
   "outputs": [
    {
     "data": {
      "text/plain": [
       "'Rohan'"
      ]
     },
     "execution_count": 55,
     "metadata": {},
     "output_type": "execute_result"
    }
   ],
   "source": [
    "my_tuple[0]"
   ]
  },
  {
   "cell_type": "code",
   "execution_count": 57,
   "id": "54dd7ffd",
   "metadata": {},
   "outputs": [
    {
     "ename": "TypeError",
     "evalue": "'tuple' object does not support item assignment",
     "output_type": "error",
     "traceback": [
      "\u001b[1;31m---------------------------------------------------------------------------\u001b[0m",
      "\u001b[1;31mTypeError\u001b[0m                                 Traceback (most recent call last)",
      "Input \u001b[1;32mIn [57]\u001b[0m, in \u001b[0;36m<cell line: 1>\u001b[1;34m()\u001b[0m\n\u001b[1;32m----> 1\u001b[0m my_tuple[\u001b[38;5;241m0\u001b[39m] \u001b[38;5;241m=\u001b[39m \u001b[38;5;124m\"\u001b[39m\u001b[38;5;124mJayZ\u001b[39m\u001b[38;5;124m\"\u001b[39m\n",
      "\u001b[1;31mTypeError\u001b[0m: 'tuple' object does not support item assignment"
     ]
    }
   ],
   "source": [
    "my_tuple[0] = \"JayZ\""
   ]
  },
  {
   "cell_type": "code",
   "execution_count": 58,
   "id": "c7a3645a",
   "metadata": {},
   "outputs": [],
   "source": [
    "my_tuple = (\"hello\", \"world\")"
   ]
  },
  {
   "cell_type": "code",
   "execution_count": 59,
   "id": "c1217e44",
   "metadata": {},
   "outputs": [
    {
     "data": {
      "text/plain": [
       "1"
      ]
     },
     "execution_count": 59,
     "metadata": {},
     "output_type": "execute_result"
    }
   ],
   "source": [
    "my_tuple.count(\"hello\")"
   ]
  },
  {
   "cell_type": "code",
   "execution_count": null,
   "id": "1f27e35d",
   "metadata": {},
   "outputs": [],
   "source": []
  }
 ],
 "metadata": {
  "kernelspec": {
   "display_name": "Python 3 (ipykernel)",
   "language": "python",
   "name": "python3"
  },
  "language_info": {
   "codemirror_mode": {
    "name": "ipython",
    "version": 3
   },
   "file_extension": ".py",
   "mimetype": "text/x-python",
   "name": "python",
   "nbconvert_exporter": "python",
   "pygments_lexer": "ipython3",
   "version": "3.9.12"
  }
 },
 "nbformat": 4,
 "nbformat_minor": 5
}
