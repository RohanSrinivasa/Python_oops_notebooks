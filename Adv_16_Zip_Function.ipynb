{
 "cells": [
  {
   "cell_type": "markdown",
   "id": "59eeff5c",
   "metadata": {},
   "source": [
    "# Zip Function"
   ]
  },
  {
   "cell_type": "code",
   "execution_count": 17,
   "id": "01143259",
   "metadata": {},
   "outputs": [],
   "source": [
    "lst1 = ['Rohan','john','jay']\n",
    "lst2 = ['a','b','c']"
   ]
  },
  {
   "cell_type": "code",
   "execution_count": 18,
   "id": "96d7a240",
   "metadata": {},
   "outputs": [],
   "source": [
    "output = zip(lst1,lst2)"
   ]
  },
  {
   "cell_type": "code",
   "execution_count": 19,
   "id": "f02b75c0",
   "metadata": {},
   "outputs": [
    {
     "data": {
      "text/plain": [
       "<zip at 0x193f5d79680>"
      ]
     },
     "execution_count": 19,
     "metadata": {},
     "output_type": "execute_result"
    }
   ],
   "source": [
    "output"
   ]
  },
  {
   "cell_type": "code",
   "execution_count": 6,
   "id": "aec825e6",
   "metadata": {},
   "outputs": [
    {
     "data": {
      "text/plain": [
       "[('Rohan', 'a'), ('john', 'b'), ('jay', 'c')]"
      ]
     },
     "execution_count": 6,
     "metadata": {},
     "output_type": "execute_result"
    }
   ],
   "source": [
    "list(output)"
   ]
  },
  {
   "cell_type": "code",
   "execution_count": 21,
   "id": "7ee597f0",
   "metadata": {},
   "outputs": [
    {
     "ename": "StopIteration",
     "evalue": "",
     "output_type": "error",
     "traceback": [
      "\u001b[1;31m---------------------------------------------------------------------------\u001b[0m",
      "\u001b[1;31mStopIteration\u001b[0m                             Traceback (most recent call last)",
      "Input \u001b[1;32mIn [21]\u001b[0m, in \u001b[0;36m<cell line: 2>\u001b[1;34m()\u001b[0m\n\u001b[0;32m      1\u001b[0m \u001b[38;5;66;03m### zip object is an iterator\u001b[39;00m\n\u001b[1;32m----> 2\u001b[0m \u001b[38;5;28;43mnext\u001b[39;49m\u001b[43m(\u001b[49m\u001b[43moutput\u001b[49m\u001b[43m)\u001b[49m\n",
      "\u001b[1;31mStopIteration\u001b[0m: "
     ]
    }
   ],
   "source": [
    "### zip object is an iterator\n",
    "next(output)"
   ]
  },
  {
   "cell_type": "code",
   "execution_count": 20,
   "id": "b0a3c40b",
   "metadata": {},
   "outputs": [
    {
     "name": "stdout",
     "output_type": "stream",
     "text": [
      "Rohan a\n",
      "john b\n",
      "jay c\n"
     ]
    }
   ],
   "source": [
    "for i,j in output:\n",
    "    print(i,j)"
   ]
  },
  {
   "cell_type": "code",
   "execution_count": 31,
   "id": "d67e6334",
   "metadata": {},
   "outputs": [],
   "source": [
    "lst1 = ['Rohan','john','jay']\n",
    "lst2 = ['a','b','c']\n",
    "lst3 = [1,2,3,4,5]"
   ]
  },
  {
   "cell_type": "code",
   "execution_count": 32,
   "id": "d1688d8c",
   "metadata": {},
   "outputs": [],
   "source": [
    "output = zip(lst1,lst2,lst3)"
   ]
  },
  {
   "cell_type": "code",
   "execution_count": 33,
   "id": "0320f7b8",
   "metadata": {},
   "outputs": [
    {
     "name": "stdout",
     "output_type": "stream",
     "text": [
      "Rohan a 1\n",
      "john b 2\n",
      "jay c 3\n"
     ]
    }
   ],
   "source": [
    "for i,j,k in output:\n",
    "    print(i,j,k)"
   ]
  },
  {
   "cell_type": "code",
   "execution_count": 34,
   "id": "97582464",
   "metadata": {},
   "outputs": [
    {
     "data": {
      "text/plain": [
       "[]"
      ]
     },
     "execution_count": 34,
     "metadata": {},
     "output_type": "execute_result"
    }
   ],
   "source": [
    "list(zip())"
   ]
  },
  {
   "cell_type": "code",
   "execution_count": 73,
   "id": "f9a68b74",
   "metadata": {},
   "outputs": [],
   "source": [
    "dict1 = {'name':'Jay','lname':'john','mname':'kye'}\n",
    "dict2 = {'name':'mike','lname':'bigie','mname':'ray'}"
   ]
  },
  {
   "cell_type": "code",
   "execution_count": 74,
   "id": "4d01a79e",
   "metadata": {},
   "outputs": [],
   "source": [
    "dictionary = zip(dict1.values(),dict2.values())"
   ]
  },
  {
   "cell_type": "code",
   "execution_count": 75,
   "id": "13e58829",
   "metadata": {},
   "outputs": [
    {
     "data": {
      "text/plain": [
       "<zip at 0x193f7899b80>"
      ]
     },
     "execution_count": 75,
     "metadata": {},
     "output_type": "execute_result"
    }
   ],
   "source": [
    "bey"
   ]
  },
  {
   "cell_type": "code",
   "execution_count": 76,
   "id": "0ebccfe2",
   "metadata": {},
   "outputs": [
    {
     "name": "stdout",
     "output_type": "stream",
     "text": [
      "Jay mike\n",
      "john bigie\n",
      "kye ray\n"
     ]
    }
   ],
   "source": [
    "for (i,j) in dictionary:\n",
    "    print(i, j)\n",
    "    #print(i2,j2)"
   ]
  },
  {
   "cell_type": "code",
   "execution_count": null,
   "id": "3c87743f",
   "metadata": {},
   "outputs": [],
   "source": []
  },
  {
   "cell_type": "code",
   "execution_count": null,
   "id": "e8d14e66",
   "metadata": {},
   "outputs": [],
   "source": []
  }
 ],
 "metadata": {
  "kernelspec": {
   "display_name": "Python 3 (ipykernel)",
   "language": "python",
   "name": "python3"
  },
  "language_info": {
   "codemirror_mode": {
    "name": "ipython",
    "version": 3
   },
   "file_extension": ".py",
   "mimetype": "text/x-python",
   "name": "python",
   "nbconvert_exporter": "python",
   "pygments_lexer": "ipython3",
   "version": "3.9.12"
  }
 },
 "nbformat": 4,
 "nbformat_minor": 5
}
